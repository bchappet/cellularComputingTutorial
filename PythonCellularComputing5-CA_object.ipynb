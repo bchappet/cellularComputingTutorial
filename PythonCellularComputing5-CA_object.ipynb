{
 "cells": [
  {
   "cell_type": "markdown",
   "metadata": {},
   "source": [
    "##Object oriented programming\n",
    "It is time to make a nice framework for our cellular automaton.\n",
    "The aim is to have an easy way to extends the classes and to associate them.\n",
    "We want to be able to easily generate easy to use functions.\n",
    "We want to have an generic GPU execution using optimized CUDA or OpenCL.\n",
    "\n"
   ]
  },
  {
   "cell_type": "code",
   "execution_count": null,
   "metadata": {
    "collapsed": true
   },
   "outputs": [],
   "source": [
    "class CellularAutomata(object):\n",
    "    def __init__(self,shape):\n",
    "        self.shape = shape\n",
    "    \n",
    "    \n",
    "    "
   ]
  }
 ],
 "metadata": {
  "kernelspec": {
   "display_name": "Python 3",
   "language": "python",
   "name": "python3"
  },
  "language_info": {
   "codemirror_mode": {
    "name": "ipython",
    "version": 3
   },
   "file_extension": ".py",
   "mimetype": "text/x-python",
   "name": "python",
   "nbconvert_exporter": "python",
   "pygments_lexer": "ipython3",
   "version": "3.4.3"
  }
 },
 "nbformat": 4,
 "nbformat_minor": 0
}
