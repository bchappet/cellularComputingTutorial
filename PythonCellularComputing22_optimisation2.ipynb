{
 "cells": [
  {
   "cell_type": "markdown",
   "metadata": {},
   "source": [
    "Pinned memory (page locked)\n"
   ]
  },
  {
   "cell_type": "code",
   "execution_count": 1,
   "metadata": {
    "collapsed": true
   },
   "outputs": [],
   "source": [
    "import pycuda.autoinit\n",
    "import pycuda.driver as drv\n",
    "import numpy as np\n",
    "from pycuda.compiler import SourceModule"
   ]
  },
  {
   "cell_type": "code",
   "execution_count": 2,
   "metadata": {
    "collapsed": true
   },
   "outputs": [],
   "source": [
    "class GameOfLife(object):\n",
    "    def __init__(self,shape):\n",
    "        self.shape = shape\n",
    "        self.reset()\n",
    "        self.init_cuda()\n",
    "        \n",
    "    def reset(self):\n",
    "        self.array = np.random.randint(0,2,(self.shape)).astype(np.bool_)\n",
    "        \n",
    "        self.blockSizeX = 30\n",
    "        self.blockSizeY = 30\n",
    "        self.nBlocksX = self.shape[1]//self.blockSizeX + (0 if self.shape[1]%self.blockSizeX == 0 else 1);\n",
    "        self.nBlocksY = self.shape[0]//self.blockSizeY + (0 if self.shape[0]%self.blockSizeY == 0 else 1);\n",
    "        self.nbThreadX = np.uint32(self.nBlocksX)\n",
    "        self.nbThreadY = np.uint32(self.nBlocksY)\n",
    "        \n",
    "        #page locked optimization\n",
    "        sizeBuff = self.blockSizeY*self.nBlocksY,self.blockSizeX*self.nBlocksX\n",
    "        self.cpu_locked_buff = cuda.pagelocked_empty(sizeBuff, np.bool_)\n",
    "        self.gpu_buff = cuda.mem_alloc(cpu_buff.nbytes)\n",
    "        \n",
    "        \n",
    "    def iterate(self,array):   \n",
    "        Xtmp = np.zeros((self.blockSizeY*self.nBlocksY,self.blockSizeX*self.nBlocksX)).astype(array.dtype)\n",
    "        Xtmp[0:self.shape[0],0:self.shape[1]] = array\n",
    "        Ytmp = np.zeros_like(Xtmp)\n",
    "        \n",
    "        self.cuda_func(\n",
    "                drv.Out(Ytmp), drv.In(Xtmp),self.nbThreadX,self.nbThreadY,\n",
    "                block=(self.blockSizeX,self.blockSizeY,1), grid=(self.nBlocksX,self.nBlocksY))\n",
    "        Y = Ytmp[0:self.shape[0],0:self.shape[1]]\n",
    "\n",
    "        return Y\n",
    "        \n",
    "        \n",
    "        \n",
    "    def run(self,nbIteration=1):\n",
    "        for i in range(nbIteration):\n",
    "            self.array = self.iterate(self.array)\n",
    "            \n",
    "            \n",
    "\n",
    "    def init_cuda(self):\n",
    "        mod = SourceModule(\"\"\"\n",
    "            __global__ void bit_gol2(bool *dest, bool *a,\n",
    "                unsigned int nbThreadX,unsigned int nbThreadY)\n",
    "            {\n",
    "\n",
    "                unsigned int x =  blockIdx.x*blockDim.x + threadIdx.x;\n",
    "                unsigned int y =  blockIdx.y*blockDim.y + threadIdx.y;\n",
    "                unsigned int nbRow = blockDim.y*nbThreadY;\n",
    "                unsigned int nbCol = blockDim.x*nbThreadX;\n",
    "                const unsigned int i = x + y*nbCol;\n",
    "                unsigned int N;\n",
    "\n",
    "                if(x > 0 && y > 0 && x < nbCol-1 && y < nbRow-1){\n",
    "                    N = ( a[x-1 + (y-1)*nbCol] + a[x + (y-1)*nbCol] + a[x+1 + (y-1)*nbCol] +\n",
    "                          a[x-1 + ( y )*nbCol] +                    + a[x+1 + ( y )*nbCol] +\n",
    "                          a[x-1 + (y+1)*nbCol] + a[x + (y+1)*nbCol] + a[x+1 + (y+1)*nbCol] );\n",
    "                }else{\n",
    "                    N = 0;\n",
    "                }\n",
    "\n",
    "                dest[i] = (a[i] & (((N==2) | (N==3)))) \n",
    "                          | (!a[i] & N==3);            \n",
    "                \n",
    "\n",
    "            }\n",
    "            \"\"\")\n",
    "\n",
    "        self.cuda_func = mod.get_function(\"bit_gol2\")\n",
    "\n",
    "       \n",
    "                    \n",
    "\n",
    "   \n"
   ]
  },
  {
   "cell_type": "code",
   "execution_count": null,
   "metadata": {
    "collapsed": true
   },
   "outputs": [],
   "source": []
  }
 ],
 "metadata": {
  "kernelspec": {
   "display_name": "Python 3",
   "language": "python",
   "name": "python3"
  },
  "language_info": {
   "codemirror_mode": {
    "name": "ipython",
    "version": 3
   },
   "file_extension": ".py",
   "mimetype": "text/x-python",
   "name": "python",
   "nbconvert_exporter": "python",
   "pygments_lexer": "ipython3",
   "version": "3.4.3"
  }
 },
 "nbformat": 4,
 "nbformat_minor": 0
}
