{
 "cells": [
  {
   "cell_type": "markdown",
   "metadata": {},
   "source": [
    "Scalability is a critical concern for cellular computing substratum.\n",
    "One of the main motivation for the study of emergent computation available with cellular computing is the ability to have a substratum with shared memory and processing units while having a very manageable conectivity.\n",
    "Its scalability in term of computing units on digital substratum should thus be linear (surface of implementation on digital substrate should be propotional to the number of processing units).\n",
    "\n",
    "Speed will decrease with the surface howver in case of synchronous implementation (more units means smaller clock frequency)."
   ]
  },
  {
   "cell_type": "markdown",
   "metadata": {},
   "source": [
    "However, in this tutoriel we have a fixed substratum area and we want to study the simulation scalability in term of speed. Concretly, if I want to simulate a crazy big game of life able of containing a very big turing machine, how fast the update will be? How big can be the grid while having a decent speed?"
   ]
  },
  {
   "cell_type": "markdown",
   "metadata": {},
   "source": [
    "This scalability issues will be studied in this section. The benchmark will then be used to compare the different implementation."
   ]
  },
  {
   "cell_type": "markdown",
   "metadata": {},
   "source": [
    "For now we are studying the *discrete*, *synchronous* cellular automatons."
   ]
  },
  {
   "cell_type": "code",
   "execution_count": 1,
   "metadata": {
    "collapsed": true
   },
   "outputs": [],
   "source": [
    "import time\n",
    "from gameOfLifeBool import GameOfLifeBool"
   ]
  },
  {
   "cell_type": "code",
   "execution_count": 2,
   "metadata": {
    "collapsed": true
   },
   "outputs": [],
   "source": [
    "\n",
    "def simulationTime(uut,nbIt):\n",
    "    tStart = time.time()\n",
    "    uut.run(nbIteration=nbIt)\n",
    "    tEnd = time.time()\n",
    "    return tEnd - tStart\n",
    "\n"
   ]
  },
  {
   "cell_type": "code",
   "execution_count": 3,
   "metadata": {
    "collapsed": true
   },
   "outputs": [],
   "source": [
    "size_list = [10,100,1000,5000,7500,10000]\n",
    "nbIt_list = [1,10,50,100]\n",
    "modelClass = GameOfLifeBool"
   ]
  },
  {
   "cell_type": "code",
   "execution_count": 4,
   "metadata": {
    "collapsed": false
   },
   "outputs": [
    {
     "name": "stdout",
     "output_type": "stream",
     "text": [
      "size 10\n",
      "    nbIt 1\n",
      "    nbIt 10\n",
      "    nbIt 50\n",
      "    nbIt 100\n",
      "size 100\n",
      "    nbIt 1\n",
      "    nbIt 10\n",
      "    nbIt 50\n",
      "    nbIt 100\n",
      "size 1000\n",
      "    nbIt 1\n",
      "    nbIt 10\n",
      "    nbIt 50\n",
      "    nbIt 100\n",
      "size 5000\n",
      "    nbIt 1\n",
      "    nbIt 10\n",
      "    nbIt 50\n",
      "    nbIt 100\n",
      "size 7500\n",
      "    nbIt 1\n",
      "    nbIt 10\n",
      "    nbIt 50\n",
      "    nbIt 100\n",
      "size 10000\n",
      "    nbIt 1\n",
      "    nbIt 10\n",
      "    nbIt 50\n",
      "    nbIt 100\n"
     ]
    }
   ],
   "source": [
    "\n",
    "data = []\n",
    "for size in size_list:\n",
    "    print('size',size)\n",
    "    uut = modelClass((size,size))        \n",
    "    for nbIt in nbIt_list:\n",
    "        print('    nbIt',nbIt)\n",
    "        for repet in range(10):\n",
    "            simuTime = simulationTime(uut,nbIt)\n",
    "            data.append([size,nbIt,repet,simuTime])\n",
    "            \n",
    "        \n",
    "    "
   ]
  },
  {
   "cell_type": "code",
   "execution_count": 50,
   "metadata": {
    "collapsed": false
   },
   "outputs": [],
   "source": [
    "import pandas as pd\n",
    "import seaborn as sns\n",
    "%matplotlib inline"
   ]
  },
  {
   "cell_type": "code",
   "execution_count": 51,
   "metadata": {
    "collapsed": false
   },
   "outputs": [
    {
     "data": {
      "text/html": [
       "<div>\n",
       "<table border=\"1\" class=\"dataframe\">\n",
       "  <thead>\n",
       "    <tr style=\"text-align: right;\">\n",
       "      <th></th>\n",
       "      <th>Size</th>\n",
       "      <th>Iteration number</th>\n",
       "      <th>Repetition</th>\n",
       "      <th>Simulation time</th>\n",
       "      <th>Unit number</th>\n",
       "    </tr>\n",
       "  </thead>\n",
       "  <tbody>\n",
       "    <tr>\n",
       "      <th>235</th>\n",
       "      <td>10000</td>\n",
       "      <td>100</td>\n",
       "      <td>5</td>\n",
       "      <td>73.155714</td>\n",
       "      <td>100000000</td>\n",
       "    </tr>\n",
       "    <tr>\n",
       "      <th>236</th>\n",
       "      <td>10000</td>\n",
       "      <td>100</td>\n",
       "      <td>6</td>\n",
       "      <td>72.796269</td>\n",
       "      <td>100000000</td>\n",
       "    </tr>\n",
       "    <tr>\n",
       "      <th>237</th>\n",
       "      <td>10000</td>\n",
       "      <td>100</td>\n",
       "      <td>7</td>\n",
       "      <td>72.610317</td>\n",
       "      <td>100000000</td>\n",
       "    </tr>\n",
       "    <tr>\n",
       "      <th>238</th>\n",
       "      <td>10000</td>\n",
       "      <td>100</td>\n",
       "      <td>8</td>\n",
       "      <td>72.655171</td>\n",
       "      <td>100000000</td>\n",
       "    </tr>\n",
       "    <tr>\n",
       "      <th>239</th>\n",
       "      <td>10000</td>\n",
       "      <td>100</td>\n",
       "      <td>9</td>\n",
       "      <td>73.180039</td>\n",
       "      <td>100000000</td>\n",
       "    </tr>\n",
       "  </tbody>\n",
       "</table>\n",
       "</div>"
      ],
      "text/plain": [
       "      Size  Iteration number  Repetition  Simulation time  Unit number\n",
       "235  10000               100           5        73.155714    100000000\n",
       "236  10000               100           6        72.796269    100000000\n",
       "237  10000               100           7        72.610317    100000000\n",
       "238  10000               100           8        72.655171    100000000\n",
       "239  10000               100           9        73.180039    100000000"
      ]
     },
     "execution_count": 51,
     "metadata": {},
     "output_type": "execute_result"
    }
   ],
   "source": [
    "df = pd.DataFrame(data,columns=['Size','Iteration number','Repetition','Simulation time'])\n",
    "df['Unit number'] = df['Size']**2\n",
    "df.tail()"
   ]
  },
  {
   "cell_type": "code",
   "execution_count": 55,
   "metadata": {
    "collapsed": false
   },
   "outputs": [
    {
     "data": {
      "text/plain": [
       "<matplotlib.axes._subplots.AxesSubplot at 0x7f66c3d70a20>"
      ]
     },
     "execution_count": 55,
     "metadata": {},
     "output_type": "execute_result"
    },
    {
     "data": {
      "image/png": "[encoded data removed]",
      "text/plain": [
       "<matplotlib.figure.Figure at 0x7f66c3f03208>"
      ]
     },
     "metadata": {},
     "output_type": "display_data"
    }
   ],
   "source": [
    "sns.tsplot(data=df,time='Unit number',unit='Repetition',value='Simulation time',condition='Iteration number',interpolate=False)\n"
   ]
  },
  {
   "cell_type": "code",
   "execution_count": 54,
   "metadata": {
    "collapsed": false
   },
   "outputs": [
    {
     "data": {
      "text/plain": [
       "<matplotlib.axes._subplots.AxesSubplot at 0x7f66c3f26f28>"
      ]
     },
     "execution_count": 54,
     "metadata": {},
     "output_type": "execute_result"
    },
    {
     "data": {
      "image/png": "[encoded data removed]",
      "text/plain": [
       "<matplotlib.figure.Figure at 0x7f66c3f2b320>"
      ]
     },
     "metadata": {},
     "output_type": "display_data"
    }
   ],
   "source": [
    "sns.tsplot(data=df,condition='Unit number',unit='Repetition',value='Simulation time',time='Iteration number',interpolate=False)"
   ]
  },
  {
   "cell_type": "markdown",
   "metadata": {},
   "source": [
    "We can see that the computation is linear with time and number of units."
   ]
  },
  {
   "cell_type": "code",
   "execution_count": null,
   "metadata": {
    "collapsed": true
   },
   "outputs": [],
   "source": []
  }
 ],
 "metadata": {
  "kernelspec": {
   "display_name": "Python 3",
   "language": "python",
   "name": "python3"
  },
  "language_info": {
   "codemirror_mode": {
    "name": "ipython",
    "version": 3
   },
   "file_extension": ".py",
   "mimetype": "text/x-python",
   "name": "python",
   "nbconvert_exporter": "python",
   "pygments_lexer": "ipython3",
   "version": "3.4.3"
  }
 },
 "nbformat": 4,
 "nbformat_minor": 0
}
