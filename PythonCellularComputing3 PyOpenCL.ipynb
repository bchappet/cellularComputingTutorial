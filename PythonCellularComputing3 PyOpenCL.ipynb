{
 "cells": [
  {
   "cell_type": "code",
   "execution_count": 1,
   "metadata": {
    "collapsed": false
   },
   "outputs": [
    {
     "ename": "ImportError",
     "evalue": "No module named 'pyopencl'",
     "output_type": "error",
     "traceback": [
      "\u001b[1;31m---------------------------------------------------------------------------\u001b[0m",
      "\u001b[1;31mImportError\u001b[0m                               Traceback (most recent call last)",
      "\u001b[1;32m<ipython-input-1-00b6fd9c7681>\u001b[0m in \u001b[0;36m<module>\u001b[1;34m()\u001b[0m\n\u001b[1;32m----> 1\u001b[1;33m \u001b[1;32mimport\u001b[0m \u001b[0mpyopencl\u001b[0m \u001b[1;32mas\u001b[0m \u001b[0mcl\u001b[0m\u001b[1;33m\u001b[0m\u001b[0m\n\u001b[0m\u001b[0;32m      2\u001b[0m \u001b[1;32mimport\u001b[0m \u001b[0mnumpy\u001b[0m \u001b[1;32mas\u001b[0m \u001b[0mnp\u001b[0m\u001b[1;33m\u001b[0m\u001b[0m\n",
      "\u001b[1;31mImportError\u001b[0m: No module named 'pyopencl'"
     ]
    }
   ],
   "source": [
    "import pyopencl as cl\n",
    "import numpy as np"
   ]
  },
  {
   "cell_type": "markdown",
   "metadata": {},
   "source": [
    "http://developer.amd.com/tools-and-sdks/opencl-zone/amd-accelerated-parallel-processing-app-sdk/\n",
    "\n",
    "http://dhruba.name/2012/11/09/opencl-cookbook-using-amdconfigaticonfig-a-powerful-utility-in-the-amd-opencl-toolset-on-linux/\n",
    "\n",
    "I installed amdcccle\n",
    "amdconfig --list-adapters\n",
    "* 0. 01:00.0 AMD Radeon 6600M and 6700M Series\n",
    "\n",
    "* - Default adapter\n",
    "\n",
    "\n",
    "It is essential to disable the crossfire:\n",
    "amdconfig --adapter=0 --crossfire=off\n",
    "\n",
    "Install the AMD APP SDK v2.9 version!!!\n",
    "\n",
    "Reading the doc in [link](http://developer.amd.com/tools-and-sdks/opencl-zone/opencl-resources/programming-in-opencl/porting-cuda-applications-to-opencl/) gives usefull hints to translate Cuda code into OpenCL. Looking to some code helps as well.\n"
   ]
  },
  {
   "cell_type": "code",
   "execution_count": 2,
   "metadata": {
    "collapsed": false
   },
   "outputs": [
    {
     "name": "stdout",
     "output_type": "stream",
     "text": [
      "[ 0.  0.  0. ...,  0.  0.  0.]\n",
      "0.0\n"
     ]
    }
   ],
   "source": [
    "import numpy as np\n",
    "import pyopencl as cl\n",
    "\n",
    "a_np = np.random.rand(50000).astype(np.float32)\n",
    "b_np = np.random.rand(50000).astype(np.float32)\n",
    "\n",
    "ctx = cl.create_some_context()\n",
    "queue = cl.CommandQueue(ctx)\n",
    "\n",
    "mf = cl.mem_flags\n",
    "a_g = cl.Buffer(ctx, mf.READ_ONLY | mf.COPY_HOST_PTR, hostbuf=a_np)\n",
    "b_g = cl.Buffer(ctx, mf.READ_ONLY | mf.COPY_HOST_PTR, hostbuf=b_np)\n",
    "\n",
    "prg = cl.Program(ctx, \"\"\"\n",
    "__kernel void sum(__global const float *a_g, __global const float *b_g, __global float *res_g) {\n",
    "  int gid = get_global_id(0);\n",
    "  res_g[gid] = a_g[gid] + b_g[gid];\n",
    "}\n",
    "\"\"\").build()\n",
    "\n",
    "res_g = cl.Buffer(ctx, mf.WRITE_ONLY, a_np.nbytes)\n",
    "prg.sum(queue, a_np.shape, None, a_g, b_g, res_g)\n",
    "\n",
    "res_np = np.empty_like(a_np)\n",
    "cl.enqueue_copy(queue, res_np, res_g)\n",
    "\n",
    "# Check on CPU with Numpy:\n",
    "print(res_np - (a_np + b_np))\n",
    "print(np.linalg.norm(res_np - (a_np + b_np)))"
   ]
  },
  {
   "cell_type": "markdown",
   "metadata": {},
   "source": [
    "We pass the dimension as parameter\n",
    "* gridDim = get_num_groups() \n",
    "* blockDim  = get_local_size() \n",
    "* blockIdx  =  \tget_group_id() \n",
    "* threadIdx  = get_local_id()\n",
    "\n",
    "Plus we have get_global_id()  and get_global_size()  in OpenCL\n",
    "\n",
    "Global parameters (like arrays) have to be anoted as global and constant with __global \n",
    "\n",
    "Apparently boolean type are not supported for data transfert because their size can be ambiguous. So we will use uchar types. As boolean are encoded on 1 byte on most of the systems it will be equivalent."
   ]
  },
  {
   "cell_type": "code",
   "execution_count": 42,
   "metadata": {
    "collapsed": true
   },
   "outputs": [],
   "source": [
    "class GameOfLife(object):\n",
    "    def __init__(self,shape):\n",
    "        self.shape = shape\n",
    "        self.reset()\n",
    "        self.init_opencl()\n",
    "        \n",
    "    def reset(self):\n",
    "        self.array = np.random.randint(0,2,(self.shape)).astype(np.uint8)\n",
    "        \n",
    "        \n",
    "    def run(self,nbIteration=1):\n",
    "        for i in range(nbIteration):\n",
    "            self.array = self.iterate(self.array)\n",
    "                \n",
    "    def init_opencl(self):\n",
    "        self.ctx = cl.create_some_context()\n",
    "        self.queue = cl.CommandQueue(self.ctx)\n",
    "        self.prg = cl.Program(self.ctx,\"\"\"\n",
    "            __kernel  void gol(__global unsigned char *dest,__global const unsigned char *a)\n",
    "            {\n",
    "\n",
    "                unsigned int x =   get_group_id(0) * get_local_size(0)  + get_local_id(0);\n",
    "                unsigned int y =   get_group_id(1) * get_local_size(1)  + get_local_id(1);\n",
    "                unsigned int nbRow = get_local_size(1) * get_num_groups(1);\n",
    "                unsigned int nbCol = get_local_size(0) * get_num_groups(0);\n",
    "                const unsigned int gid = x + y*nbCol;\n",
    "                unsigned int N;\n",
    "\n",
    "                if(x > 0 && y > 0 && x < nbCol-1 && y < nbRow-1){\n",
    "                    N = ( a[x-1 + (y-1)*nbCol] + a[x + (y-1)*nbCol] + a[x+1 + (y-1)*nbCol] +\n",
    "                          a[x-1 + ( y )*nbCol] +                    + a[x+1 + ( y )*nbCol] +\n",
    "                          a[x-1 + (y+1)*nbCol] + a[x + (y+1)*nbCol] + a[x+1 + (y+1)*nbCol] );\n",
    "                }else{\n",
    "                    N = 0;\n",
    "                }\n",
    "\n",
    "                dest[gid] = (a[gid] & (((N==2) | (N==3)))) \n",
    "                          | (!a[gid] & N==3); \n",
    "                \n",
    "\n",
    "            }\n",
    "            \"\"\").build()\n",
    "\n",
    "        \n",
    "\n",
    "        #does not work with 30 (see max block size for AMD)\n",
    "        self.blockSizeX = 16\n",
    "        self.blockSizeY = 16\n",
    "        self.nBlocksX = self.shape[1]//self.blockSizeX + (0 if self.shape[1]%self.blockSizeX == 0 else 1);\n",
    "        self.nBlocksY = self.shape[0]//self.blockSizeY + (0 if self.shape[0]%self.blockSizeY == 0 else 1);\n",
    "\n",
    "\n",
    "\n",
    "        #To optimize we are going to fill the grid and extract the data that we want.\n",
    "        #We can then make the border that we want.\n",
    "\n",
    "        self.Xtmp = np.zeros((self.blockSizeY*self.nBlocksY,self.blockSizeX*self.nBlocksX)).astype(np.uint8)\n",
    "        self.Ytmp = np.zeros_like(self.Xtmp).astype(np.uint8)\n",
    "    \n",
    "    def iterate(self,array):   \n",
    "        mf = cl.mem_flags\n",
    "        self.Xtmp[...] = 0;\n",
    "        self.Xtmp[0:self.shape[0],0:self.shape[1]] = array\n",
    "        \n",
    "        \n",
    "        X_g = cl.Buffer(self.ctx, mf.READ_ONLY | mf.COPY_HOST_PTR, hostbuf=self.Xtmp)\n",
    "        Y_g = cl.Buffer(self.ctx, mf.WRITE_ONLY, self.Ytmp.nbytes)\n",
    "        \n",
    "        self.prg.gol(self.queue, self.Xtmp.shape, None, Y_g, X_g)\n",
    "        \n",
    "        \n",
    "        \n",
    "        cl.enqueue_copy(self.queue, self.Ytmp, Y_g)\n",
    "        \n",
    "\n",
    "        #self.cuda_func(\n",
    "        #        drv.Out(Ytmp), drv.In(Xtmp),self.nbThreadX,self.nbThreadY,\n",
    "        #        block=(self.blockSizeX,self.blockSizeY,1), grid=(self.nBlocksX,self.nBlocksY))\n",
    "        \n",
    "        \n",
    "        Y = self.Ytmp[0:self.shape[0],0:self.shape[1]]\n",
    "\n",
    "        return Y\n"
   ]
  },
  {
   "cell_type": "code",
   "execution_count": 55,
   "metadata": {
    "collapsed": false
   },
   "outputs": [],
   "source": [
    "gol = GameOfLife((10000,10000))"
   ]
  },
  {
   "cell_type": "code",
   "execution_count": 56,
   "metadata": {
    "collapsed": false
   },
   "outputs": [
    {
     "name": "stdout",
     "output_type": "stream",
     "text": [
      "1 loops, best of 3: 228 ms per loop\n"
     ]
    }
   ],
   "source": [
    "%timeit gol.run()"
   ]
  },
  {
   "cell_type": "code",
   "execution_count": 38,
   "metadata": {
    "collapsed": true
   },
   "outputs": [],
   "source": [
    "import unittest\n",
    "import numpy.testing as npt\n",
    "class TestGameOfLife(unittest.TestCase):\n",
    "    def setUp(self):\n",
    "        self.shape = (6,6)\n",
    "        self.uut = GameOfLife(self.shape)\n",
    "        \n",
    "    def testUpdate(self):\n",
    "        a = np.array([\n",
    "                [0,0,0,0,0,0],\n",
    "                [0,0,0,0,0,0],\n",
    "                [0,0,1,1,1,0],\n",
    "                [0,1,1,1,0,0],\n",
    "                [0,0,0,0,0,0],\n",
    "                [0,0,0,0,0,0]\n",
    "            ]).astype(np.bool_)\n",
    "        self.uut.array = a\n",
    "        b = np.array([\n",
    "                [0,0,0,0,0,0],\n",
    "                [0,0,0,1,0,0],\n",
    "                [0,1,0,0,1,0],\n",
    "                [0,1,0,0,1,0],\n",
    "                [0,0,1,0,0,0],\n",
    "                [0,0,0,0,0,0]\n",
    "            ]).astype(np.bool_)\n",
    "        \n",
    "        self.uut.run()\n",
    "        npt.assert_equal(self.uut.array,b)\n",
    "        self.uut.run()\n",
    "        npt.assert_equal(self.uut.array,a)\n",
    "        \n",
    "import sys\n",
    "def runGOFTest():\n",
    "    suite = unittest.TestLoader().loadTestsFromTestCase(TestGameOfLife)\n",
    "    unittest.TextTestRunner().run(suite)"
   ]
  },
  {
   "cell_type": "code",
   "execution_count": 47,
   "metadata": {
    "collapsed": false
   },
   "outputs": [
    {
     "name": "stderr",
     "output_type": "stream",
     "text": [
      ".\n",
      "----------------------------------------------------------------------\n",
      "Ran 1 test in 0.009s\n",
      "\n",
      "OK\n"
     ]
    }
   ],
   "source": [
    "runGOFTest()"
   ]
  },
  {
   "cell_type": "code",
   "execution_count": 57,
   "metadata": {
    "collapsed": true
   },
   "outputs": [],
   "source": [
    "import matplotlib.pyplot as plt\n",
    "%matplotlib inline\n",
    "plt.rcParams['figure.figsize'] = (15.0, 8.0)"
   ]
  },
  {
   "cell_type": "code",
   "execution_count": 58,
   "metadata": {
    "collapsed": true
   },
   "outputs": [],
   "source": [
    "def plotArray(array):\n",
    "    X = np.copy(array)\n",
    "    plt.imshow(X,cmap='gray_r',interpolation='none')\n",
    "    \n",
    "def plotIterations(gof,nbIteration=1):\n",
    "    for i in range(nbIteration):\n",
    "        if i != 0:\n",
    "            uut.run()\n",
    "            \n",
    "        plt.subplot(100 + nbIteration*10+i+1)\n",
    "        plotArray(uut.array)\n",
    "        plt.xticks([])\n",
    "        plt.yticks([])"
   ]
  },
  {
   "cell_type": "code",
   "execution_count": 60,
   "metadata": {
    "collapsed": false
   },
   "outputs": [
    {
     "data": {
      "image/png": "[encoded data removed]",
      "text/plain": [
       "<matplotlib.figure.Figure at 0x7fba4618b668>"
      ]
     },
     "metadata": {},
     "output_type": "display_data"
    }
   ],
   "source": [
    "shape = (100,100)\n",
    "uut = GameOfLife(shape)\n",
    "plotIterations(uut,5)"
   ]
  },
  {
   "cell_type": "code",
   "execution_count": null,
   "metadata": {
    "collapsed": true
   },
   "outputs": [],
   "source": []
  }
 ],
 "metadata": {
  "kernelspec": {
   "display_name": "Python 3",
   "language": "python",
   "name": "python3"
  },
  "language_info": {
   "codemirror_mode": {
    "name": "ipython",
    "version": 3
   },
   "file_extension": ".py",
   "mimetype": "text/x-python",
   "name": "python",
   "nbconvert_exporter": "python",
   "pygments_lexer": "ipython3",
   "version": "3.4.3"
  }
 },
 "nbformat": 4,
 "nbformat_minor": 0
}
