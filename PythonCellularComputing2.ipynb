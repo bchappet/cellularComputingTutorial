{
 "cells": [
  {
   "cell_type": "markdown",
   "metadata": {},
   "source": [
    "## GPU acceleration"
   ]
  },
  {
   "cell_type": "markdown",
   "metadata": {},
   "source": [
    "In this part we will use PyCuda to accelerate the computation of our automata."
   ]
  },
  {
   "cell_type": "markdown",
   "metadata": {},
   "source": [
    "### Installation"
   ]
  },
  {
   "cell_type": "markdown",
   "metadata": {},
   "source": [
    "On ubuntu 14.04 amd64 with an NVIDIA Quadro 600.\n",
    "First I installed CUDA by following the instructions in this website and it worked perfectly [link](http://www.r-tutor.com/gpu-computing/cuda-installation/cuda7.0-ubuntu).\n",
    "\n"
   ]
  },
  {
   "cell_type": "markdown",
   "metadata": {},
   "source": [
    "`\n",
    "$lsb_release -a\n",
    "Distributor ID:\tUbuntu\n",
    "Description:\tUbuntu 14.04.2 LTS\n",
    "Release:\t14.04\n",
    "Codename:\ttrusty\n",
    "`"
   ]
  },
  {
   "cell_type": "markdown",
   "metadata": {},
   "source": [
    "`\n",
    "glxinfo | grep direct\n",
    "glxinfo | grep OpenGL\n",
    "`"
   ]
  },
  {
   "cell_type": "markdown",
   "metadata": {
    "collapsed": true
   },
   "source": [
    "The sudo pip3 install pycuda"
   ]
  },
  {
   "cell_type": "code",
   "execution_count": 1,
   "metadata": {
    "collapsed": false
   },
   "outputs": [
    {
     "ename": "ImportError",
     "evalue": "No module named 'pycuda'",
     "output_type": "error",
     "traceback": [
      "\u001b[1;31m---------------------------------------------------------------------------\u001b[0m",
      "\u001b[1;31mImportError\u001b[0m                               Traceback (most recent call last)",
      "\u001b[1;32m<ipython-input-1-2c63a0f65011>\u001b[0m in \u001b[0;36m<module>\u001b[1;34m()\u001b[0m\n\u001b[1;32m----> 1\u001b[1;33m \u001b[1;32mimport\u001b[0m \u001b[0mpycuda\u001b[0m\u001b[1;33m.\u001b[0m\u001b[0mautoinit\u001b[0m\u001b[1;33m\u001b[0m\u001b[0m\n\u001b[0m\u001b[0;32m      2\u001b[0m \u001b[1;32mimport\u001b[0m \u001b[0mpycuda\u001b[0m\u001b[1;33m.\u001b[0m\u001b[0mdriver\u001b[0m \u001b[1;32mas\u001b[0m \u001b[0mdrv\u001b[0m\u001b[1;33m\u001b[0m\u001b[0m\n\u001b[0;32m      3\u001b[0m \u001b[1;32mimport\u001b[0m \u001b[0mnumpy\u001b[0m \u001b[1;32mas\u001b[0m \u001b[0mnp\u001b[0m\u001b[1;33m\u001b[0m\u001b[0m\n\u001b[0;32m      4\u001b[0m \u001b[1;32mfrom\u001b[0m \u001b[0mpycuda\u001b[0m\u001b[1;33m.\u001b[0m\u001b[0mcompiler\u001b[0m \u001b[1;32mimport\u001b[0m \u001b[0mSourceModule\u001b[0m\u001b[1;33m\u001b[0m\u001b[0m\n",
      "\u001b[1;31mImportError\u001b[0m: No module named 'pycuda'"
     ]
    }
   ],
   "source": [
    "import pycuda.autoinit\n",
    "import pycuda.driver as drv\n",
    "import numpy as np\n",
    "from pycuda.compiler import SourceModule"
   ]
  },
  {
   "cell_type": "markdown",
   "metadata": {},
   "source": [
    "TODO import previous notebook but now we use booleans"
   ]
  },
  {
   "cell_type": "code",
   "execution_count": 2,
   "metadata": {
    "collapsed": false
   },
   "outputs": [],
   "source": [
    "class GameOfLife(object):\n",
    "    def __init__(self,shape):\n",
    "        self.shape = shape\n",
    "        self.reset()\n",
    "        self.init_cuda()\n",
    "        \n",
    "    def reset(self):\n",
    "        self.array = np.random.randint(0,2,(self.shape)).astype(np.bool_)\n",
    "        \n",
    "        \n",
    "    def run(self,nbIteration=1):\n",
    "        for i in range(nbIteration):\n",
    "            self.array = self.iterate(self.array)\n",
    "                \n",
    "    def init_cuda(self):\n",
    "        mod = SourceModule(\"\"\"\n",
    "        __global__ void bit_gol(bool *dest, bool *a,\n",
    "            const unsigned int nbRow,const unsigned int nbCol)\n",
    "        {\n",
    "\n",
    "            unsigned int x = threadIdx.x;\n",
    "            unsigned int y = threadIdx.y;\n",
    "            const unsigned int i = x + y*nbCol;\n",
    "            unsigned int N;\n",
    "\n",
    "            if(x > 0 && y > 0 && x < nbCol-1 && y < nbRow-1){\n",
    "                N = ( a[x-1 + (y-1)*nbCol] + a[x + (y-1)*nbCol] + a[x+1 + (y-1)*nbCol] +\n",
    "                      a[x-1 + ( y )*nbCol] +                    + a[x+1 + ( y )*nbCol] +\n",
    "                      a[x-1 + (y+1)*nbCol] + a[x + (y+1)*nbCol] + a[x+1 + (y+1)*nbCol] );\n",
    "            }else{\n",
    "                N = 0;\n",
    "            }\n",
    "\n",
    "            dest[i] = (a[i] & (((N==2) | (N==3)))) /*survive*/\n",
    "                      | (!a[i] & N==3);          /*birth*/\n",
    "\n",
    "        }\n",
    "        \"\"\")\n",
    "\n",
    "        self.cuda_func = mod.get_function(\"bit_gol\")\n",
    "    \n",
    "    def iterate(self,array):\n",
    "        Y = np.zeros_like(array)\n",
    "        nbRow = np.uint32(self.shape[0])\n",
    "        nbCol = np.uint32(self.shape[1])\n",
    "\n",
    "        self.cuda_func(\n",
    "                drv.Out(Y), drv.In(array),nbRow,nbCol,\n",
    "                block=(self.shape[0],self.shape[1],1), grid=(1,1))\n",
    "        return Y\n"
   ]
  },
  {
   "cell_type": "code",
   "execution_count": null,
   "metadata": {
    "collapsed": true
   },
   "outputs": [],
   "source": []
  },
  {
   "cell_type": "code",
   "execution_count": 3,
   "metadata": {
    "collapsed": false
   },
   "outputs": [],
   "source": [
    "import unittest\n",
    "import numpy.testing as npt\n",
    "class TestGameOfLife(unittest.TestCase):\n",
    "    def setUp(self):\n",
    "        self.shape = (6,6)\n",
    "        self.uut = GameOfLife(self.shape)\n",
    "        \n",
    "    def testUpdate(self):\n",
    "        a = np.array([\n",
    "                [0,0,0,0,0,0],\n",
    "                [0,0,0,0,0,0],\n",
    "                [0,0,1,1,1,0],\n",
    "                [0,1,1,1,0,0],\n",
    "                [0,0,0,0,0,0],\n",
    "                [0,0,0,0,0,0]\n",
    "            ]).astype(np.bool_)\n",
    "        self.uut.array = a\n",
    "        b = np.array([\n",
    "                [0,0,0,0,0,0],\n",
    "                [0,0,0,1,0,0],\n",
    "                [0,1,0,0,1,0],\n",
    "                [0,1,0,0,1,0],\n",
    "                [0,0,1,0,0,0],\n",
    "                [0,0,0,0,0,0]\n",
    "            ]).astype(np.bool_)\n",
    "        \n",
    "        self.uut.run()\n",
    "        npt.assert_equal(self.uut.array,b)\n",
    "        self.uut.run()\n",
    "        npt.assert_equal(self.uut.array,a)"
   ]
  },
  {
   "cell_type": "code",
   "execution_count": 4,
   "metadata": {
    "collapsed": false
   },
   "outputs": [],
   "source": [
    "import sys\n",
    "def runGOFTest():\n",
    "    suite = unittest.TestLoader().loadTestsFromTestCase(TestGameOfLife)\n",
    "    unittest.TextTestRunner().run(suite)\n"
   ]
  },
  {
   "cell_type": "code",
   "execution_count": 5,
   "metadata": {
    "collapsed": false
   },
   "outputs": [
    {
     "name": "stderr",
     "output_type": "stream",
     "text": [
      ".\n",
      "----------------------------------------------------------------------\n",
      "Ran 1 test in 0.481s\n",
      "\n",
      "OK\n"
     ]
    }
   ],
   "source": [
    "runGOFTest()"
   ]
  },
  {
   "cell_type": "code",
   "execution_count": 6,
   "metadata": {
    "collapsed": false
   },
   "outputs": [
    {
     "name": "stdout",
     "output_type": "stream",
     "text": [
      "10 loops, best of 3: 39.1 ms per loop\n"
     ]
    }
   ],
   "source": [
    "size = 30\n",
    "uut = GameOfLife((size,size))\n",
    "%timeit uut.run(100)"
   ]
  },
  {
   "cell_type": "code",
   "execution_count": 7,
   "metadata": {
    "collapsed": false
   },
   "outputs": [],
   "source": [
    "import matplotlib.pyplot as plt\n",
    "%matplotlib inline\n",
    "plt.rcParams['figure.figsize'] = (15.0, 8.0)"
   ]
  },
  {
   "cell_type": "code",
   "execution_count": 8,
   "metadata": {
    "collapsed": false
   },
   "outputs": [],
   "source": [
    "def plotArray(array):\n",
    "    X = np.copy(array)\n",
    "    plt.imshow(X,cmap='gray_r',interpolation='none')\n",
    "    \n",
    "def plotIterations(gof,nbIteration=1):\n",
    "    for i in range(nbIteration):\n",
    "        if i != 0:\n",
    "            uut.run()\n",
    "            \n",
    "        plt.subplot(100 + nbIteration*10+i+1)\n",
    "        plotArray(uut.array)\n",
    "        plt.xticks([])\n",
    "        plt.yticks([])"
   ]
  },
  {
   "cell_type": "code",
   "execution_count": 9,
   "metadata": {
    "collapsed": false
   },
   "outputs": [
    {
     "data": {
      "image/png": "[encoded data removed]",
      "text/plain": [
       "<matplotlib.figure.Figure at 0x7f7d9b0f6320>"
      ]
     },
     "metadata": {},
     "output_type": "display_data"
    }
   ],
   "source": [
    "shape = (30,30)\n",
    "uut = GameOfLife(shape)\n",
    "plotIterations(uut,5)"
   ]
  },
  {
   "cell_type": "markdown",
   "metadata": {},
   "source": [
    "Seems great but the size is a bit small. Let's try to rise it using different blocks."
   ]
  },
  {
   "cell_type": "code",
   "execution_count": null,
   "metadata": {
    "collapsed": false
   },
   "outputs": [],
   "source": [
    "\n"
   ]
  },
  {
   "cell_type": "code",
   "execution_count": 15,
   "metadata": {
    "collapsed": true
   },
   "outputs": [],
   "source": [
    "def init_cuda(self):\n",
    "    mod = SourceModule(\"\"\"\n",
    "            __global__ void bit_gol2(bool *dest, bool *a)\n",
    "            {\n",
    "\n",
    "                unsigned int x =  blockIdx.x*blockDim.x + threadIdx.x;\n",
    "                unsigned int y =  blockIdx.y*blockDim.y + threadIdx.y;\n",
    "                unsigned int nbRow = blockDim.y*gridDim.y;\n",
    "                unsigned int nbCol = blockDim.x*gridDim.x;\n",
    "                const unsigned int i = x + y*nbCol;\n",
    "                unsigned int N;\n",
    "\n",
    "                if(x > 0 && y > 0 && x < nbCol-1 && y < nbRow-1){\n",
    "                    N = ( a[x-1 + (y-1)*nbCol] + a[x + (y-1)*nbCol] + a[x+1 + (y-1)*nbCol] +\n",
    "                          a[x-1 + ( y )*nbCol] +                    + a[x+1 + ( y )*nbCol] +\n",
    "                          a[x-1 + (y+1)*nbCol] + a[x + (y+1)*nbCol] + a[x+1 + (y+1)*nbCol] );\n",
    "                }else{\n",
    "                    N = 0;\n",
    "                }\n",
    "\n",
    "                dest[i] = (a[i] & (((N==2) | (N==3)))) \n",
    "                          | (!a[i] & N==3);            \n",
    "                \n",
    "\n",
    "            }\n",
    "            \"\"\")\n",
    "\n",
    "    self.cuda_func = mod.get_function(\"bit_gol2\")\n",
    "    \n",
    "    self.blockSizeX = 30\n",
    "    self.blockSizeY = 30\n",
    "    self.nBlocksX = self.shape[1]//self.blockSizeX + (0 if self.shape[1]%self.blockSizeX == 0 else 1);\n",
    "    self.nBlocksY = self.shape[0]//self.blockSizeY + (0 if self.shape[0]%self.blockSizeY == 0 else 1);\n",
    "\n",
    "\n",
    "GameOfLife.init_cuda = init_cuda"
   ]
  },
  {
   "cell_type": "code",
   "execution_count": 16,
   "metadata": {
    "collapsed": false
   },
   "outputs": [],
   "source": [
    "def iterate(self,array):   \n",
    "    Xtmp = np.zeros((self.blockSizeY*self.nBlocksY,self.blockSizeX*self.nBlocksX)).astype(array.dtype)\n",
    "    Xtmp[0:self.shape[0],0:self.shape[1]] = array\n",
    "    Ytmp = np.zeros_like(Xtmp)\n",
    "    \n",
    "    self.cuda_func(\n",
    "            drv.Out(Ytmp), drv.In(Xtmp),\n",
    "            block=(self.blockSizeX,self.blockSizeY,1), grid=(self.nBlocksX,self.nBlocksY))\n",
    "    Y = Ytmp[0:self.shape[0],0:self.shape[1]]\n",
    "\n",
    "    return Y\n",
    "\n",
    "GameOfLife.iterate = iterate\n"
   ]
  },
  {
   "cell_type": "code",
   "execution_count": 17,
   "metadata": {
    "collapsed": false
   },
   "outputs": [
    {
     "name": "stderr",
     "output_type": "stream",
     "text": [
      ".\n",
      "----------------------------------------------------------------------\n",
      "Ran 1 test in 3.025s\n",
      "\n",
      "OK\n"
     ]
    }
   ],
   "source": [
    "runGOFTest()"
   ]
  },
  {
   "cell_type": "code",
   "execution_count": 18,
   "metadata": {
    "collapsed": false
   },
   "outputs": [
    {
     "data": {
      "image/png": "[encoded data removed]",
      "text/plain": [
       "<matplotlib.figure.Figure at 0x7f7d8bbdf9e8>"
      ]
     },
     "metadata": {},
     "output_type": "display_data"
    }
   ],
   "source": [
    "shape = (2000,2000)\n",
    "uut = GameOfLife(shape)\n",
    "plotIterations(uut,5)"
   ]
  },
  {
   "cell_type": "code",
   "execution_count": 19,
   "metadata": {
    "collapsed": false
   },
   "outputs": [
    {
     "name": "stdout",
     "output_type": "stream",
     "text": [
      "100 loops, best of 3: 5.19 ms per loop\n"
     ]
    }
   ],
   "source": [
    "uut = GameOfLife((1000,1000))\n",
    "%timeit uut.run()\n"
   ]
  },
  {
   "cell_type": "markdown",
   "metadata": {},
   "source": [
    "The speed increade by a factor 2 only. This is quite disapointing."
   ]
  },
  {
   "cell_type": "markdown",
   "metadata": {},
   "source": [
    "Using the profiler tool nvprof it is possible to get leads for optimization: here we dont \n"
   ]
  },
  {
   "cell_type": "raw",
   "metadata": {
    "collapsed": false
   },
   "source": [
    "$nvprof  ./PythonCellularComputing2.py 1000 1000\n",
    "==20841== Profiling application: /usr/bin/python3.4 ./PythonCellularComputing2.py 1000 1000\n",
    "==20841== Profiling result:\n",
    "Time(%)      Time     Calls       Avg       Min       Max  Name\n",
    " 82.14%  1.80123s      1000  1.8012ms  1.7991ms  1.8036ms  bit_gol2\n",
    "  9.43%  206.79ms      1000  206.79us  175.47us  523.78us  [CUDA memcpy DtoH]\n",
    "  8.43%  184.89ms      1000  184.89us  181.90us  231.94us  [CUDA memcpy HtoD]\n",
    "\n",
    "==20841== API calls:\n",
    "Time(%)      Time     Calls       Avg       Min       Max  Name\n",
    " 50.71%  1.96890s      1000  1.9689ms  1.7708ms  3.0975ms  cuCtxSynchronize\n",
    " 21.28%  826.22ms      1000  826.21us  442.28us  2.2046ms  cuMemcpyDtoH\n",
    "  9.03%  350.68ms      1000  350.68us  250.15us  2.5713ms  cuMemcpyHtoD\n",
    "  8.84%  343.33ms      2000  171.67us  125.48us  600.99us  cuMemAlloc\n",
    "  5.15%  199.80ms      2000  99.900us  78.224us  289.50us  cuMemFree\n",
    "  1.96%  76.238ms         1  76.238ms  76.238ms  76.238ms  cuCtxCreate\n",
    "  1.89%  73.464ms         1  73.464ms  73.464ms  73.464ms  cuCtxDetach\n",
    "  1.02%  39.657ms      1000  39.657us  16.903us  159.12us  cuLaunchKernel\n",
    "  0.10%  3.8549ms      1000  3.8540us  1.7920us  65.893us  cuFuncSetBlockShape\n",
    "  0.01%  340.55us         1  340.55us  340.55us  340.55us  cuModuleUnload\n",
    "  0.01%  268.94us         1  268.94us  268.94us  268.94us  cuModuleLoadDataEx\n",
    "  0.00%  5.8470us         2  2.9230us  1.2260us  4.6210us  cuCtxPopCurrent\n",
    "  0.00%  4.7970us         2  2.3980us     499ns  4.2980us  cuCtxPushCurrent\n",
    "  0.00%  4.6660us         2  2.3330us  1.5400us  3.1260us  cuDeviceGetCount\n",
    "  0.00%  3.8040us         2  1.9020us     874ns  2.9300us  cuCtxGetDevice\n",
    "  0.00%  3.0770us         1  3.0770us  3.0770us  3.0770us  cuModuleGetFunction\n",
    "  0.00%  1.7320us         2     866ns     666ns  1.0660us  cuDeviceGet\n",
    "  0.00%  1.1940us         1  1.1940us  1.1940us  1.1940us  cuDeviceComputeCapability\n",
    "\n"
   ]
  },
  {
   "cell_type": "code",
   "execution_count": null,
   "metadata": {
    "collapsed": false
   },
   "outputs": [],
   "source": [
    "\n",
    "\n",
    "\n",
    "            "
   ]
  },
  {
   "cell_type": "code",
   "execution_count": null,
   "metadata": {
    "collapsed": false
   },
   "outputs": [],
   "source": [
    "\n"
   ]
  },
  {
   "cell_type": "code",
   "execution_count": null,
   "metadata": {
    "collapsed": false
   },
   "outputs": [],
   "source": []
  },
  {
   "cell_type": "code",
   "execution_count": null,
   "metadata": {
    "collapsed": false
   },
   "outputs": [],
   "source": [
    "\n"
   ]
  },
  {
   "cell_type": "code",
   "execution_count": null,
   "metadata": {
    "collapsed": false
   },
   "outputs": [],
   "source": []
  },
  {
   "cell_type": "code",
   "execution_count": null,
   "metadata": {
    "collapsed": true
   },
   "outputs": [],
   "source": []
  }
 ],
 "metadata": {
  "kernelspec": {
   "display_name": "Python 3",
   "language": "python",
   "name": "python3"
  },
  "language_info": {
   "codemirror_mode": {
    "name": "ipython",
    "version": 3
   },
   "file_extension": ".py",
   "mimetype": "text/x-python",
   "name": "python",
   "nbconvert_exporter": "python",
   "pygments_lexer": "ipython3",
   "version": "3.4.3"
  }
 },
 "nbformat": 4,
 "nbformat_minor": 0
}
