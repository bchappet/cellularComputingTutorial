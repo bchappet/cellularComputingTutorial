{
 "cells": [
  {
   "cell_type": "markdown",
   "metadata": {},
   "source": [
    "# Cellular computing with Python 3"
   ]
  },
  {
   "cell_type": "markdown",
   "metadata": {},
   "source": [
    "Python is not the fastest language for computations.\n",
    "Coming from Java world it was obvious for me that Python could not compete with compiled language like Java or C++ for cellular computing.\n",
    "Cellular computing supposes the interaction of a lot of cell in a localized way: with a reduced amount of neighbors.\n",
    "In Java you would take an array and loop over it with an update function.\n",
    "But in Python the first rule if you want to have reasonable performance is: never loop over an array.\n",
    "That is why we need to use array libraries like numpy to perform vectorized computations.\n"
   ]
  },
  {
   "cell_type": "markdown",
   "metadata": {},
   "source": [
    "## Cellular automata\n",
    "Let us have a look with the well known Conway's game of life cellular automata.\n",
    "First approach: we try a loop like we would do in Java\n"
   ]
  },
  {
   "cell_type": "code",
   "execution_count": 15,
   "metadata": {
    "collapsed": true
   },
   "outputs": [],
   "source": [
    "import numpy as np"
   ]
  },
  {
   "cell_type": "code",
   "execution_count": 16,
   "metadata": {
    "collapsed": false
   },
   "outputs": [],
   "source": [
    "class GameOfLife():\n",
    "    \"\"\"\n",
    "    Simple class to hold \n",
    "    \"\"\"\n",
    "    def __init__(self,shape):\n",
    "        self.shape = shape\n",
    "        self.reset()\n",
    "        \n",
    "    def reset(self):\n",
    "        self.array = np.zeros(self.shape)\n",
    "        \n",
    "    def run(self,nbIteration=1):\n",
    "        for i in range(nbIteration):\n",
    "            self.array = self.iterate(self.array)\n",
    "        \n",
    "    def iterate(self,array):\n",
    "        X = array#old array\n",
    "        Y = np.zeros_like(X)#new array\n",
    "        for i in range(1,X.shape[0]-1):\n",
    "            for j in range(1,X.shape[1]-1):\n",
    "                \n",
    "                # Count neighbors\n",
    "                N = (X[i-1,j-1] + X[i-1,j] + X[i-1,j+1] +\n",
    "                     X[i  ,j-1]            + X[i  ,j+1] +\n",
    "                     X[i+1,j-1] + X[i+1,j] + X[i+1,j+1])\n",
    "\n",
    "                # Apply rules\n",
    "                state = X[i,j]\n",
    "                if state:\n",
    "                    if((N==2) | (N==3)):\n",
    "                        newState = 1\n",
    "                    else:\n",
    "                        newState = 0\n",
    "                else:\n",
    "                    if N == 3:\n",
    "                        newState = 1\n",
    "                    else:\n",
    "                        newState = 0\n",
    "                             \n",
    "                \n",
    "                #Update new array\n",
    "                Y[i,j] = newState\n",
    "\n",
    "        return Y"
   ]
  },
  {
   "cell_type": "markdown",
   "metadata": {},
   "source": [
    "First, let us define a testing framework to be sure that this piece of code behave as we expect. We will start with a small test and improve it later. I use the good python package unittest."
   ]
  },
  {
   "cell_type": "code",
   "execution_count": 17,
   "metadata": {
    "collapsed": false
   },
   "outputs": [],
   "source": [
    "import unittest\n",
    "import numpy.testing as npt\n",
    "class TestGameOfLife(unittest.TestCase):\n",
    "    def setUp(self):\n",
    "        self.shape = (6,6)\n",
    "        self.uut = GameOfLife(self.shape)\n",
    "        \n",
    "    def testUpdate(self):\n",
    "        a = np.array([\n",
    "                [0,0,0,0,0,0],\n",
    "                [0,0,0,0,0,0],\n",
    "                [0,0,1,1,1,0],\n",
    "                [0,1,1,1,0,0],\n",
    "                [0,0,0,0,0,0],\n",
    "                [0,0,0,0,0,0]\n",
    "            ])\n",
    "        self.uut.array = a\n",
    "        b = np.array([\n",
    "                [0,0,0,0,0,0],\n",
    "                [0,0,0,1,0,0],\n",
    "                [0,1,0,0,1,0],\n",
    "                [0,1,0,0,1,0],\n",
    "                [0,0,1,0,0,0],\n",
    "                [0,0,0,0,0,0]\n",
    "            ])\n",
    "        \n",
    "        self.uut.run()\n",
    "        npt.assert_equal(self.uut.array,b)\n",
    "        self.uut.run()\n",
    "        npt.assert_equal(self.uut.array,a)"
   ]
  },
  {
   "cell_type": "markdown",
   "metadata": {},
   "source": [
    "Of course it is not enough to make a good test (we will have to take care of the border broblem at some point) but it is a good start. I used this pattern because it is one of the simplest oscillator of the game of life. If nothing disturb it, it will oscilate between states a and b forever.\n",
    "This test will be usefull for every upgrade of the GameOfLife class. Every time we want to modify a method, we can then run the test to assert that the behaviour is still the same.\n",
    "\n",
    "I will probably have an occasion to insist on the difference between parallel assynchronous computations. It is a vast subject. But as we want to simulate hardware implementation and as common hardware work in parallel we perform parallel computations.\n",
    "\n",
    "That is why I introduced the \"new array\" $Y$ to write the result, while I was looping on the \"old array\" $X$. "
   ]
  },
  {
   "cell_type": "code",
   "execution_count": 18,
   "metadata": {
    "collapsed": false
   },
   "outputs": [
    {
     "name": "stderr",
     "output_type": "stream",
     "text": [
      ".\n",
      "----------------------------------------------------------------------\n",
      "Ran 1 test in 0.001s\n",
      "\n",
      "OK\n"
     ]
    }
   ],
   "source": [
    "import sys\n",
    "def runGOFTest():\n",
    "    suite = unittest.TestLoader().loadTestsFromTestCase(TestGameOfLife)\n",
    "    unittest.TextTestRunner().run(suite)\n",
    "runGOFTest()"
   ]
  },
  {
   "cell_type": "code",
   "execution_count": 19,
   "metadata": {
    "collapsed": false
   },
   "outputs": [
    {
     "name": "stdout",
     "output_type": "stream",
     "text": [
      "1 loop, best of 3: 3.47 s per loop\n"
     ]
    }
   ],
   "source": [
    "uut = GameOfLife((1000,1000))\n",
    "%timeit uut.run()"
   ]
  },
  {
   "cell_type": "markdown",
   "metadata": {},
   "source": [
    "The execution time is unbearably long. Looping is not an option.\n",
    "We have to use the full power of numpy by vectorizing the compuations. Vectorizing is not obvious when it is the first time that you face this problem. The idea is to avoid the loop by using the optimized functions of numpy.\n",
    "For instance here we want to count the number of neighbors alive for each cell. Instead of looping over each cell we can simply add shifted version of the array to each other thus obtainig the same result. And as numpy addition is optimized at a low level, the performance should increase."
   ]
  },
  {
   "cell_type": "code",
   "execution_count": 20,
   "metadata": {
    "collapsed": false
   },
   "outputs": [],
   "source": [
    "def iterate(self, array):\n",
    "    X = array #old array\n",
    "    # Count neighbors\n",
    "    N = (X[0:-2,0:-2] + X[0:-2,1:-1] + X[0:-2,2:] +\n",
    "         X[1:-1,0:-2] +                X[1:-1,2:] +\n",
    "         X[2:  ,0:-2] + X[2:  ,1:-1] + X[2:  ,2:])\n",
    "    # Apply rules \n",
    "    birth = (N==3) & (X[1:-1,1:-1]==0) \n",
    "    survive = ((N==2) | (N==3)) & (X[1:-1,1:-1]==1) \n",
    "    #reset the cells\n",
    "    X[...] = 0\n",
    "    x = X[1:-1,1:-1]\n",
    "    #switch on the cells with the rules boolean array\n",
    "    x[birth | survive] = 1\n",
    "    return X\n",
    "\n",
    "#very dirty trick\n",
    "GameOfLife.iterate = iterate"
   ]
  },
  {
   "cell_type": "markdown",
   "metadata": {},
   "source": [
    "After a run with the same parameters, we have an improvement of factor 100."
   ]
  },
  {
   "cell_type": "code",
   "execution_count": 21,
   "metadata": {
    "collapsed": false
   },
   "outputs": [
    {
     "name": "stdout",
     "output_type": "stream",
     "text": [
      "10 loops, best of 3: 30.9 ms per loop\n"
     ]
    }
   ],
   "source": [
    "uut = GameOfLife((1000,1000))\n",
    "%timeit uut.run()"
   ]
  },
  {
   "cell_type": "markdown",
   "metadata": {},
   "source": [
    "   And here we see the usefulness of the unit testing. By runing the test with the update GameOfLife class, we assert that its computations are still valid."
   ]
  },
  {
   "cell_type": "code",
   "execution_count": 22,
   "metadata": {
    "collapsed": false
   },
   "outputs": [
    {
     "name": "stderr",
     "output_type": "stream",
     "text": [
      ".\n",
      "----------------------------------------------------------------------\n",
      "Ran 1 test in 0.002s\n",
      "\n",
      "OK\n"
     ]
    }
   ],
   "source": [
    "runGOFTest()"
   ]
  },
  {
   "cell_type": "markdown",
   "metadata": {},
   "source": [
    "Now can we improve it. Well the obvious answer for someone working at lower level would be to change the type of the array. Indeed the default type of the Numpy array is float64. It is a bit crazy to compute the game of life on such big cells. Let us try to reduce it."
   ]
  },
  {
   "cell_type": "code",
   "execution_count": 24,
   "metadata": {
    "collapsed": false
   },
   "outputs": [
    {
     "name": "stdout",
     "output_type": "stream",
     "text": [
      "100 loops, best of 3: 4.88 ms per loop\n"
     ]
    }
   ],
   "source": [
    "def reset(self):\n",
    "    self.array = np.random.randint(0,2,self.shape).astype(np.uint8)\n",
    "    \n",
    "GameOfLife.reset = reset\n",
    "uut = GameOfLife((1000,1000))\n",
    "%timeit uut.run()"
   ]
  },
  {
   "cell_type": "markdown",
   "metadata": {
    "collapsed": true
   },
   "source": [
    "Reducing the data size improves the speed by a factor 10. But besides the speed, the logic of the approach is important as well. As we want to simulate the hardware for cellular computing it would be weird (to say the least) to use float64 numbers.\n",
    "\n",
    "You may think that for this specific automata, boolean array would actually be even better. Indeed the cells have a binary state dead or alive. Thus there is no need of the 256 states allowed by the int8.\n",
    "However boolean array manipulation is more constraning for operations: additions are not supported. Hence we need to convert the array from boolean to int8."
   ]
  },
  {
   "cell_type": "code",
   "execution_count": 25,
   "metadata": {
    "collapsed": true
   },
   "outputs": [],
   "source": [
    "class GameOfLifeBool(GameOfLife):\n",
    "    def __init__(self,shape):\n",
    "        super(GameOfLifeBool,self).__init__(shape)\n",
    "        \n",
    "    def reset(self):\n",
    "        self.array = np.random.randint(0,2,self.shape).astype(np.bool_)\n",
    "        \n",
    "        \n",
    "    def iterate(self, array):\n",
    "        X = array.astype(np.uint8) #old array\n",
    "        # Count neighbors\n",
    "        N = (X[0:-2,0:-2] + X[0:-2,1:-1] + X[0:-2,2:] +\n",
    "             X[1:-1,0:-2] +                X[1:-1,2:] +\n",
    "             X[2:  ,0:-2] + X[2:  ,1:-1] + X[2:  ,2:])\n",
    "        # Apply rules \n",
    "        birth = (N==3) & (array[1:-1,1:-1]) \n",
    "        survive = ((N==2) | (N==3)) & (array[1:-1,1:-1]) \n",
    "        \n",
    "        #switch on the cells with the rules boolean array\n",
    "        array[1:-1,1:-1] = birth | survive\n",
    "        return array\n",
    "                    "
   ]
  },
  {
   "cell_type": "code",
   "execution_count": 26,
   "metadata": {
    "collapsed": false
   },
   "outputs": [
    {
     "name": "stdout",
     "output_type": "stream",
     "text": [
      "100 loops, best of 3: 3.2 ms per loop\n"
     ]
    }
   ],
   "source": [
    "uutBool = GameOfLifeBool((1000,1000))\n",
    "%timeit uutBool.run()"
   ]
  },
  {
   "cell_type": "markdown",
   "metadata": {},
   "source": [
    "The speed increase is not amazing but it is more satisfying. Now let us use matplotlib to visualize the cellular automata."
   ]
  },
  {
   "cell_type": "code",
   "execution_count": 27,
   "metadata": {
    "collapsed": false
   },
   "outputs": [],
   "source": [
    "import matplotlib.pyplot as plt\n",
    "%matplotlib inline\n",
    "plt.rcParams['figure.figsize'] = (15.0, 8.0)"
   ]
  },
  {
   "cell_type": "code",
   "execution_count": 28,
   "metadata": {
    "collapsed": false
   },
   "outputs": [],
   "source": [
    "def plotArray(array):\n",
    "    X = np.copy(array)\n",
    "    plt.imshow(X,cmap='gray_r',interpolation='none')\n",
    "    \n",
    "def plotIterations(gof,nbIteration=1):\n",
    "    for i in range(nbIteration):\n",
    "        if i != 0:\n",
    "            uut.run()\n",
    "            \n",
    "        plt.subplot(100 + nbIteration*10+i+1)\n",
    "        plotArray(uut.array)\n",
    "        plt.xticks([])\n",
    "        plt.yticks([])"
   ]
  },
  {
   "cell_type": "code",
   "execution_count": 29,
   "metadata": {
    "collapsed": false
   },
   "outputs": [
    {
     "data": {
      "image/png": "[encoded data removed]",
      "text/plain": [
       "<matplotlib.figure.Figure at 0x7fd50b58bf60>"
      ]
     },
     "metadata": {},
     "output_type": "display_data"
    }
   ],
   "source": [
    "shape = (100,100)\n",
    "uut = GameOfLife(shape)\n",
    "plotIterations(uut,5)"
   ]
  },
  {
   "cell_type": "code",
   "execution_count": null,
   "metadata": {
    "collapsed": true
   },
   "outputs": [],
   "source": []
  }
 ],
 "metadata": {
  "kernelspec": {
   "display_name": "Python 3",
   "language": "python",
   "name": "python3"
  },
  "language_info": {
   "codemirror_mode": {
    "name": "ipython",
    "version": 3
   },
   "file_extension": ".py",
   "mimetype": "text/x-python",
   "name": "python",
   "nbconvert_exporter": "python",
   "pygments_lexer": "ipython3",
   "version": "3.4.3"
  }
 },
 "nbformat": 4,
 "nbformat_minor": 0
}
