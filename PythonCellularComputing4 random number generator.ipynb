{
 "cells": [
  {
   "cell_type": "markdown",
   "metadata": {},
   "source": [
    "## Pseudo random number generator\n",
    "We will make an implementation of CAPRNG"
   ]
  },
  {
   "cell_type": "code",
   "execution_count": 1,
   "metadata": {
    "collapsed": false
   },
   "outputs": [],
   "source": [
    "import pycuda.autoinit\n",
    "import pycuda.driver as drv\n",
    "import numpy as np\n",
    "from pycuda.compiler import SourceModule"
   ]
  },
  {
   "cell_type": "code",
   "execution_count": 2,
   "metadata": {
    "collapsed": false
   },
   "outputs": [],
   "source": [
    "def intToBinArray(val,size=6,dtype=np.bool_):\n",
    "    li = list(bin(val)[2:])\n",
    "    li2 = [0]*(size-len(li))\n",
    "    li2.extend(li)\n",
    "   \n",
    "    return np.array(li2).astype(dtype)\n",
    "    \n",
    "def intToBinArray_vec(val_array,size=6,dtype=np.bool_):\n",
    "    val_array2 = np.asarray(val_array)\n",
    "    result = np.zeros((val_array2.shape[0],val_array2.shape[1],size),dtype=dtype)\n",
    "    for i in range(val_array2.shape[0]):\n",
    "        for j in range(val_array2.shape[1]):\n",
    "            result[i,j,:] = intToBinArray(val_array2[i,j],size=size,dtype=dtype) \n",
    "    return result\n",
    "            \n",
    "ruleInt = np.array(\n",
    "       [[ 5, 43, 27,  6, 13, 57, 57, 38],\n",
    "       [ 59, 21, 61, 10, 32, 25,  0, 37],\n",
    "       [ 14, 46, 37, 29, 25, 31, 52, 52],\n",
    "       [ 34, 61, 44, 43,  4, 63, 46,  2],\n",
    "       [  6,  2,  3, 51, 59, 54, 42, 12],\n",
    "       [ 47, 61, 63, 36, 33, 24, 45,  5],\n",
    "       [ 54, 53, 37,  7, 59, 15, 60, 36],\n",
    "       [ 55, 28, 25, 19, 44, 22, 49, 39]]).astype(np.int32)\n",
    "ruleBool = intToBinArray_vec(ruleInt)"
   ]
  },
  {
   "cell_type": "code",
   "execution_count": 3,
   "metadata": {
    "collapsed": false
   },
   "outputs": [],
   "source": [
    "mod = SourceModule(\"\"\"\n",
    "__global__ void prng(bool *dest, bool *a,bool *XCNWSE)\n",
    "{\n",
    "\n",
    "        unsigned int x =  blockIdx.x*blockDim.x + threadIdx.x;\n",
    "        unsigned int y =  blockIdx.y*blockDim.y + threadIdx.y;\n",
    "        unsigned int nbRow = blockDim.y*gridDim.y;\n",
    "        unsigned int nbCol = blockDim.x*gridDim.x;\n",
    "        const unsigned int i = x + y*nbCol;\n",
    "        \n",
    "        /*The rule index is the same for every block*/\n",
    "        const unsigned int ruleIndex = threadIdx.x + threadIdx.y * blockDim.x;\n",
    "        \n",
    "        \n",
    "        if(x >0 && x < nbCol-1 && y > 0 && y < nbRow -1 ){\n",
    "            dest[i] =                     \n",
    "                    (XCNWSE[ruleIndex+0]                       )!=\n",
    "                    (XCNWSE[ruleIndex+1] & a[i]                )!= \n",
    "                    (XCNWSE[ruleIndex+2] & a[x   +(y-1)*nbCol] )!=\n",
    "                    (XCNWSE[ruleIndex+3] & a[x-1 +( y )*nbCol] )!=\n",
    "                    (XCNWSE[ruleIndex+4] & a[x   +(y+1)*nbCol] )!=\n",
    "                    (XCNWSE[ruleIndex+5] & a[x+1 +( y )*nbCol] );\n",
    "        }else{\n",
    "            dest[i] = 0;\n",
    "        }\n",
    "\n",
    "}\n",
    "\"\"\")\n",
    "\n",
    "prng = mod.get_function(\"prng\")\n",
    "\n"
   ]
  },
  {
   "cell_type": "code",
   "execution_count": 4,
   "metadata": {
    "collapsed": false
   },
   "outputs": [],
   "source": [
    "def makeBorder(array):\n",
    "    newArray = np.zeros((array.shape[0]+2,array.shape[1]+2),dtype=array.dtype)\n",
    "    newArray[1:-1,1:-1] = array\n",
    "    return newArray"
   ]
  },
  {
   "cell_type": "code",
   "execution_count": 5,
   "metadata": {
    "collapsed": false
   },
   "outputs": [],
   "source": [
    "shape = (1000,1000) \n",
    "\n",
    "X = np.zeros(shape).astype(np.bool_)"
   ]
  },
  {
   "cell_type": "code",
   "execution_count": 6,
   "metadata": {
    "collapsed": false
   },
   "outputs": [],
   "source": [
    "def iterate(array):\n",
    "\n",
    "    blockSizeX = 8\n",
    "    blockSizeY = 8\n",
    "    #array = np.random.randint(0,2,shape).astype(np.bool_)\n",
    "\n",
    "\n",
    "    nBlocksX = int(shape[1]//blockSizeX + (0 if shape[1]%blockSizeX == 0 else 1))\n",
    "    nBlocksY = int(shape[0]//blockSizeY + (0 if shape[0]%blockSizeY == 0 else 1))\n",
    "\n",
    "   \n",
    "    Y = np.zeros_like(X)\n",
    "\n",
    "\n",
    "\n",
    "    prng(\n",
    "            drv.Out(Y), drv.In(array),drv.In(ruleBool),\n",
    "            block=(blockSizeX,blockSizeY,1), grid=(nBlocksX,nBlocksY)\n",
    "    )\n",
    "    return Y\n"
   ]
  },
  {
   "cell_type": "code",
   "execution_count": 7,
   "metadata": {
    "collapsed": true
   },
   "outputs": [],
   "source": [
    "import matplotlib.pyplot as plt\n",
    "%matplotlib inline\n",
    "plt.rcParams['figure.figsize'] = (15.0, 8.0)\n",
    "def plotArray(array):\n",
    "    X = np.copy(array)\n",
    "    plt.imshow(X,cmap='gray_r',interpolation='none')\n",
    "    plt.clim(0,1)\n",
    "    \n",
    "def plotIterations(gof,nbIteration=1):\n",
    "    for i in range(nbIteration):\n",
    "        if i != 0:\n",
    "            uut.run()\n",
    "            \n",
    "        plt.subplot(100 + nbIteration*10+i+1)\n",
    "        plotArray(uut.array)\n",
    "        plt.xticks([])\n",
    "        plt.yticks([])"
   ]
  },
  {
   "cell_type": "code",
   "execution_count": 8,
   "metadata": {
    "collapsed": false
   },
   "outputs": [
    {
     "name": "stdout",
     "output_type": "stream",
     "text": [
      "100 loops, best of 3: 3.62 ms per loop\n"
     ]
    },
    {
     "data": {
      "image/png": "[encoded data removed]",
      "text/plain": [
       "<matplotlib.figure.Figure at 0x7f2b22b8d588>"
      ]
     },
     "metadata": {},
     "output_type": "display_data"
    }
   ],
   "source": [
    "%timeit iterate(X)\n",
    "Y = iterate(X)\n",
    "for i in range(200):\n",
    "    Y=iterate(Y)\n",
    "\n",
    "plotArray(Y[0:100,0:100])"
   ]
  },
  {
   "cell_type": "code",
   "execution_count": 10,
   "metadata": {
    "collapsed": false
   },
   "outputs": [
    {
     "name": "stdout",
     "output_type": "stream",
     "text": [
      "100 loops, best of 3: 12 ms per loop\n"
     ]
    }
   ],
   "source": [
    "%timeit Y=np.random.randint(0,2,(1000,1000))"
   ]
  },
  {
   "cell_type": "markdown",
   "metadata": {},
   "source": [
    "Once again the performence is not amazing. We won a factor 3 of speed. But the scalability is much better."
   ]
  },
  {
   "cell_type": "code",
   "execution_count": 11,
   "metadata": {
    "collapsed": false
   },
   "outputs": [
    {
     "name": "stdout",
     "output_type": "stream",
     "text": [
      "10 loops, best of 3: 187 ms per loop\n"
     ]
    }
   ],
   "source": [
    "from pycuda import curandom\n",
    "%timeit curandom.rand((1000,1000))"
   ]
  },
  {
   "cell_type": "raw",
   "metadata": {
    "collapsed": false
   },
   "source": [
    "==21677== Profiling application: /usr/bin/python3.4 ./PythonCellularComputing4 random number generator.py 1000 1000\n",
    "==21677== Profiling result:\n",
    "Time(%)      Time     Calls       Avg       Min       Max  Name\n",
    " 82.73%  1.79526s      1000  1.7953ms  1.7928ms  1.7987ms  prng\n",
    "  8.93%  193.77ms      1000  193.77us  168.33us  883.80us  [CUDA memcpy DtoH]\n",
    "  8.34%  181.08ms      2000  90.539us  1.8870us  250.34us  [CUDA memcpy HtoD]\n",
    "\n",
    "==21677== API calls:\n",
    "Time(%)      Time     Calls       Avg       Min       Max  Name\n",
    " 45.08%  1.82613s      1000  1.8261ms  1.7367ms  3.3420ms  cuCtxSynchronize\n",
    " 17.84%  722.66ms      1000  722.66us  412.17us  3.6057ms  cuMemcpyDtoH\n",
    " 14.64%  593.28ms      2000  296.64us  84.703us  5.1637ms  cuMemcpyHtoD\n",
    " 10.49%  425.01ms      3000  141.67us  121.53us  11.570ms  cuMemAlloc\n",
    "  7.67%  310.81ms      3000  103.60us  75.338us  11.590ms  cuMemFree\n",
    "  1.91%  77.471ms         1  77.471ms  77.471ms  77.471ms  cuCtxCreate\n",
    "  1.87%  75.685ms         1  75.685ms  75.685ms  75.685ms  cuCtxDetach\n",
    "  0.44%  17.841ms      1000  17.840us  13.767us  98.959us  cuLaunchKernel\n",
    "  0.04%  1.5867ms      1000  1.5860us  1.2950us  14.674us  cuFuncSetBlockShape\n",
    "  0.01%  342.29us         1  342.29us  342.29us  342.29us  cuModuleLoadDataEx\n",
    "  0.01%  306.45us         1  306.45us  306.45us  306.45us  cuModuleUnload\n",
    "  0.00%  5.5440us         2  2.7720us     564ns  4.9800us  cuCtxPushCurrent\n",
    "  0.00%  5.3080us         2  2.6540us  2.4470us  2.8610us  cuDeviceGetCount\n",
    "  0.00%  4.3260us         1  4.3260us  4.3260us  4.3260us  cuModuleGetFunction\n",
    "  0.00%  4.1990us         2  2.0990us  1.4380us  2.7610us  cuCtxPopCurrent\n",
    "  0.00%  2.7710us         2  1.3850us     966ns  1.8050us  cuCtxGetDevice\n",
    "  0.00%  1.9030us         2     951ns     409ns  1.4940us  cuDeviceGet\n",
    "  0.00%  1.3790us         1  1.3790us  1.3790us  1.3790us  cuDeviceComputeCapability\n"
   ]
  },
  {
   "cell_type": "markdown",
   "metadata": {
    "collapsed": true
   },
   "source": [
    "### Optimization\n"
   ]
  },
  {
   "cell_type": "markdown",
   "metadata": {},
   "source": [
    "There is a nice way to optimize the execution by taking advantage of the fact that the cellular automata is infact optimized for 8x8 wrapped grid. This means that wa can use shared memory for double buffering the generation. But it is not usefull as we have to use the data at some point."
   ]
  },
  {
   "cell_type": "markdown",
   "metadata": {},
   "source": [
    "### Fixed precision stochastic bitstream generation\n",
    "We can use this CAPRNG to generate bit streams of fixed precision.\n",
    "The idea is to use postulate that our random numbers are encoded on $n$ bits with fixed point precision.\n",
    "We can then compare $n$ cells of our CAPRNG with this number to get a binary result."
   ]
  },
  {
   "cell_type": "code",
   "execution_count": 9,
   "metadata": {
    "collapsed": false
   },
   "outputs": [],
   "source": [
    "mod = SourceModule(\"\"\"\n",
    "/**\n",
    "dest: Nx1 array with caprng < proba result\n",
    "caprng: Ax1 array with prng booleans\n",
    "proba: fix point integer version of the proba of precision p\n",
    "precision: precision ofthe proba\n",
    "consequently \n",
    "**/\n",
    "__global__ void fp_prng(bool *dest, bool *caprng,unsigned int proba,unsigned int precision)\n",
    "{\n",
    "        const unsigned int x =  blockIdx.x*blockDim.x + threadIdx.x;\n",
    "        const unsigned int y =  blockIdx.y*blockDim.y + threadIdx.y;\n",
    "        const unsigned int nbCol = blockDim.x*gridDim.x;\n",
    "        const unsigned int thid = x + y*nbCol;\n",
    "\n",
    "           \n",
    "        /**Transform caprng into integer randInt**/\n",
    "        unsigned int randInt = 0;\n",
    "        for(unsigned int i = 0 ; i < precision ; ++i){\n",
    "            randInt |= caprng[thid * precision + i] << i;\n",
    "        }\n",
    "        /**Compare it with proba**/\n",
    "        dest[thid] = randInt < proba;\n",
    "}\n",
    "\"\"\")\n",
    "\n",
    "\n",
    "fpprng = mod.get_function(\"fp_prng\")"
   ]
  },
  {
   "cell_type": "code",
   "execution_count": 10,
   "metadata": {
    "collapsed": false
   },
   "outputs": [
    {
     "data": {
      "text/plain": [
       "0"
      ]
     },
     "execution_count": 10,
     "metadata": {},
     "output_type": "execute_result"
    }
   ],
   "source": [
    "def floatToFp(val,precision=8):\n",
    "    valInt = int(val * ((1 << precision)))\n",
    "    return valInt\n",
    "floatToFp(0,precision=1)"
   ]
  },
  {
   "cell_type": "code",
   "execution_count": null,
   "metadata": {
    "collapsed": true
   },
   "outputs": [],
   "source": []
  },
  {
   "cell_type": "code",
   "execution_count": 11,
   "metadata": {
    "collapsed": true
   },
   "outputs": [],
   "source": [
    "def getFpPrng(proba,precision=8):\n",
    "    proba = floatToFp(proba,precision)\n",
    "    \n",
    "\n",
    "    shapeFpPrng = (1000,1000)\n",
    "    fpPrng = np.zeros(shapeFpPrng,dtype=np.bool_)\n",
    "\n",
    "    #how many prng we need\n",
    "    shapeCaPrng = (shapeFpPrng[0]*precision,shapeFpPrng[1]*precision)\n",
    "\n",
    "    caPrngIn = np.random.randint(0,2,shapeCaPrng).astype(np.bool_)\n",
    "    caPrngOut = np.zeros_like(caPrngIn)\n",
    "\n",
    "    #Topology of caprgng execution\n",
    "    blockSizeX = 8\n",
    "    blockSizeY = 8\n",
    "    nBlocksX = int(shapeCaPrng[1]//blockSizeX + (0 if shapeCaPrng[1]%blockSizeX == 0 else 1))\n",
    "    nBlocksY = int(shapeCaPrng[0]//blockSizeY + (0 if shapeCaPrng[0]%blockSizeY == 0 else 1))\n",
    "    prng(\n",
    "                drv.Out(caPrngOut), drv.In(caPrngIn),drv.In(ruleBool),\n",
    "                block=(blockSizeX,blockSizeY,1), grid=(nBlocksX,nBlocksY)\n",
    "        )\n",
    "\n",
    "    #Topology of fpPrgng execution\n",
    "    blockSizeX = 32\n",
    "    blockSizeY = 32\n",
    "    nBlocksX = int(shapeFpPrng[1]//blockSizeX + (0 if shapeFpPrng[1]%blockSizeX == 0 else 1))\n",
    "    nBlocksY = int(shapeFpPrng[0]//blockSizeY + (0 if shapeFpPrng[0]%blockSizeY == 0 else 1))\n",
    "    #print(proba,precision)\n",
    "    fpprng(\n",
    "                drv.Out(fpPrng), drv.In(caPrngOut),np.uint32(proba),np.uint32(precision),\n",
    "                block=(blockSizeX,blockSizeY,1), grid=(nBlocksX,nBlocksY)\n",
    "        )\n",
    "    return fpPrng"
   ]
  },
  {
   "cell_type": "code",
   "execution_count": null,
   "metadata": {
    "collapsed": false
   },
   "outputs": [],
   "source": [
    "\n"
   ]
  },
  {
   "cell_type": "code",
   "execution_count": null,
   "metadata": {
    "collapsed": false
   },
   "outputs": [],
   "source": []
  },
  {
   "cell_type": "markdown",
   "metadata": {},
   "source": [
    "Let's test it:\n",
    "1. Probability:\n",
    "    1. With probability = 0, the result should be an array of zeros\n",
    "    2. With probability = 1, the result should be an array of one\n",
    "    3. With probability = 0.5, it should be halph halph\n",
    "2. Precision:\n",
    "    1. With precision = 1, and probability = 0.49 the result should be 0\n",
    "    2. With precision = 1, and probability = 0.51 the result should be 1\n",
    "etc.\n",
    "\n"
   ]
  },
  {
   "cell_type": "code",
   "execution_count": 12,
   "metadata": {
    "collapsed": false
   },
   "outputs": [
    {
     "data": {
      "image/png": "[encoded data removed]",
      "text/plain": [
       "<matplotlib.figure.Figure at 0x7f2b2110abe0>"
      ]
     },
     "metadata": {},
     "output_type": "display_data"
    }
   ],
   "source": [
    "\n",
    "Y = getFpPrng(0)\n",
    "plt.subplot(231)\n",
    "plotArray(Y[0:100,0:100])\n",
    "\n",
    "Y = getFpPrng(1)\n",
    "plt.subplot(232)\n",
    "plotArray(Y[0:100,0:100])\n",
    "\n",
    "Y = getFpPrng(0.5)\n",
    "plt.subplot(233)\n",
    "plotArray(Y[0:100,0:100])\n",
    "\n",
    "Y = getFpPrng(0.49,precision=1)\n",
    "plt.subplot(234)\n",
    "plotArray(Y[0:100,0:100])\n",
    "\n",
    "Y = getFpPrng(0.99,precision=1)\n",
    "plt.subplot(235)\n",
    "plotArray(Y[0:100,0:100])"
   ]
  },
  {
   "cell_type": "markdown",
   "metadata": {},
   "source": [
    "Those tests where a good occasion to correct mistakes (in floatToFp) but also in plotArray demonsrating the usefulness of function unit testing that I should have done for every function. It also show an error for the last testCase: we see the same thing as in the 3rd.\n",
    "It is due to our function floatToFp which allows 3 values for a precision 1. It is a desirable behaviour so be it."
   ]
  },
  {
   "cell_type": "markdown",
   "metadata": {},
   "source": [
    "####What about the speed?"
   ]
  },
  {
   "cell_type": "code",
   "execution_count": 13,
   "metadata": {
    "collapsed": false
   },
   "outputs": [
    {
     "name": "stdout",
     "output_type": "stream",
     "text": [
      "1 loops, best of 3: 1.18 s per loop\n"
     ]
    }
   ],
   "source": [
    "%timeit getFpPrng(0.5)"
   ]
  },
  {
   "cell_type": "code",
   "execution_count": 137,
   "metadata": {
    "collapsed": false
   },
   "outputs": [],
   "source": [
    "def test(prob=0.5):\n",
    "    return curandom.rand((1000,1000)) < prob\n"
   ]
  },
  {
   "cell_type": "code",
   "execution_count": 138,
   "metadata": {
    "collapsed": false
   },
   "outputs": [
    {
     "name": "stdout",
     "output_type": "stream",
     "text": [
      "The slowest run took 23.16 times longer than the fastest. This could mean that an intermediate result is being cached \n",
      "1 loops, best of 3: 188 ms per loop\n"
     ]
    }
   ],
   "source": [
    "%timeit test(0.5)"
   ]
  },
  {
   "cell_type": "code",
   "execution_count": 15,
   "metadata": {
    "collapsed": false
   },
   "outputs": [
    {
     "name": "stdout",
     "output_type": "stream",
     "text": [
      "100 loops, best of 3: 16.4 ms per loop\n"
     ]
    }
   ],
   "source": [
    "def test2(prob=0.5):\n",
    "    return (np.random.random((1000,1000)) < prob)\n",
    "\n",
    "%timeit test2()\n"
   ]
  },
  {
   "cell_type": "code",
   "execution_count": null,
   "metadata": {
    "collapsed": true
   },
   "outputs": [],
   "source": []
  },
  {
   "cell_type": "code",
   "execution_count": null,
   "metadata": {
    "collapsed": true
   },
   "outputs": [],
   "source": []
  },
  {
   "cell_type": "code",
   "execution_count": null,
   "metadata": {
    "collapsed": true
   },
   "outputs": [],
   "source": []
  }
 ],
 "metadata": {
  "kernelspec": {
   "display_name": "Python 3",
   "language": "python",
   "name": "python3"
  },
  "language_info": {
   "codemirror_mode": {
    "name": "ipython",
    "version": 3
   },
   "file_extension": ".py",
   "mimetype": "text/x-python",
   "name": "python",
   "nbconvert_exporter": "python",
   "pygments_lexer": "ipython3",
   "version": "3.4.3"
  }
 },
 "nbformat": 4,
 "nbformat_minor": 0
}
