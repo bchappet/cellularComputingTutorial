{
 "cells": [
  {
   "cell_type": "code",
   "execution_count": 1,
   "metadata": {
    "collapsed": true
   },
   "outputs": [],
   "source": [
    "import pycuda.autoinit\n",
    "import pycuda.driver as drv\n",
    "import numpy as np\n",
    "from pycuda.compiler import SourceModule"
   ]
  },
  {
   "cell_type": "code",
   "execution_count": 2,
   "metadata": {
    "collapsed": true
   },
   "outputs": [],
   "source": [
    "###  Double buffering"
   ]
  },
  {
   "cell_type": "code",
   "execution_count": 3,
   "metadata": {
    "collapsed": true
   },
   "outputs": [],
   "source": [
    "import unittest\n",
    "import numpy.testing as npt\n",
    "class TestGameOfLife(unittest.TestCase):\n",
    "    def setUp(self):\n",
    "        self.shape = (6,6)\n",
    "        self.uut = GameOfLife(self.shape)\n",
    "        \n",
    "    def testUpdate(self):\n",
    "        a = np.array([\n",
    "                [0,0,0,0,0,0],\n",
    "                [0,0,0,0,0,0],\n",
    "                [0,0,1,1,1,0],\n",
    "                [0,1,1,1,0,0],\n",
    "                [0,0,0,0,0,0],\n",
    "                [0,0,0,0,0,0]\n",
    "            ]).astype(np.bool_)\n",
    "        self.uut.array = a\n",
    "        b = np.array([\n",
    "                [0,0,0,0,0,0],\n",
    "                [0,0,0,1,0,0],\n",
    "                [0,1,0,0,1,0],\n",
    "                [0,1,0,0,1,0],\n",
    "                [0,0,1,0,0,0],\n",
    "                [0,0,0,0,0,0]\n",
    "            ]).astype(np.bool_)\n",
    "        \n",
    "        self.uut.run()\n",
    "        npt.assert_equal(self.uut.array,b)\n",
    "        self.uut.run()\n",
    "        npt.assert_equal(self.uut.array,a)"
   ]
  },
  {
   "cell_type": "code",
   "execution_count": 4,
   "metadata": {
    "collapsed": true
   },
   "outputs": [],
   "source": [
    "import sys\n",
    "def runGOFTest():\n",
    "    suite = unittest.TestLoader().loadTestsFromTestCase(TestGameOfLife)\n",
    "    unittest.TextTestRunner().run(suite)"
   ]
  },
  {
   "cell_type": "code",
   "execution_count": 63,
   "metadata": {
    "collapsed": true
   },
   "outputs": [],
   "source": [
    "class GameOfLife(object):\n",
    "    def __init__(self,shape):\n",
    "        self.shape = shape\n",
    "        self.reset()\n",
    "        self.init_cuda()\n",
    "        \n",
    "    def reset(self):\n",
    "        self.array = np.random.randint(0,2,(self.shape)).astype(np.bool_)\n",
    "\n",
    "    def init_cuda(self):\n",
    "        mod = SourceModule(\"\"\"\n",
    "            __global__ void bit_gol3(bool *dest, bool *a,\n",
    "                unsigned int nbThreadX,unsigned int nbThreadY,unsigned int nbIt)\n",
    "            {\n",
    "            \n",
    "                unsigned int x =  blockIdx.x*blockDim.x + threadIdx.x;\n",
    "                unsigned int y =  blockIdx.y*blockDim.y + threadIdx.y;\n",
    "                unsigned int nbRow = blockDim.y*nbThreadY;\n",
    "                unsigned int nbCol = blockDim.x*nbThreadX;\n",
    "                unsigned int thid = x + y*nbCol; //thread id\n",
    "                unsigned int N;\n",
    "                unsigned int sizeTot = nbRow * nbCol;\n",
    "                \n",
    "                \n",
    "                \n",
    "                int pout = 0, pin = 1;         //double buffer indices\n",
    "                unsigned int offIn,offOut;     //buffer offset\n",
    "                \n",
    "                extern __shared__ bool tmp[]; // allocated on invocation\n",
    "                \n",
    "                tmp[pout * sizeTot + thid] = a[thid];//Put the input in the buffer\n",
    "                __syncthreads(); \n",
    "                \n",
    "                for(unsigned int i = 0 ; i < nbIt ; ++i ){\n",
    "                \n",
    "                    pout = 1 - pout; //swap double buffer indices\n",
    "                    pin = 1 - pout;\n",
    "                    \n",
    "                    offIn = pin * sizeTot; //compute les offset for the indices\n",
    "                    offOut = pout * sizeTot;\n",
    "                    \n",
    "                    if(x > 0 && y > 0 && x < nbCol-1 && y < nbRow-1){\n",
    "                        N = ( \n",
    "tmp[offIn + x-1 + (y-1)*nbCol] + tmp[offIn + x + (y-1)*nbCol] + tmp[offIn + x+1 + (y-1)*nbCol] +\n",
    "tmp[offIn + x-1 + ( y )*nbCol] +                              + tmp[offIn + x+1 + ( y )*nbCol] +\n",
    "tmp[offIn + x-1 + (y+1)*nbCol] + tmp[offIn + x + (y+1)*nbCol] + tmp[offIn + x+1 + (y+1)*nbCol] \n",
    "                        );\n",
    "                    }else{\n",
    "                        N = 0;\n",
    "                    }\n",
    "                    \n",
    "                    tmp[offOut + thid] = ( tmp[offIn + thid] & ((N==2) | (N==3))) \n",
    "                                       | (!tmp[offIn + thid] &   N==3); \n",
    "                    \n",
    "                    __syncthreads();   \n",
    "                }\n",
    "                dest[thid] = tmp[pout * sizeTot + thid];//Put the buffer in the output\n",
    "            }\n",
    "            \"\"\")\n",
    "\n",
    "        self.cuda_func = mod.get_function(\"bit_gol3\")\n",
    "\n",
    "        self.blockSizeX = 32\n",
    "        self.blockSizeY = 32\n",
    "        self.nBlocksX = self.shape[1]//self.blockSizeX + (0 if self.shape[1]%self.blockSizeX == 0 else 1);\n",
    "        self.nBlocksY = self.shape[0]//self.blockSizeY + (0 if self.shape[0]%self.blockSizeY == 0 else 1);\n",
    "\n",
    "        \n",
    "\n",
    "        #To optimize we are going to fill the grid and extract the data that we want.\n",
    "        #We can then make the border that we want.\n",
    "\n",
    "        self.nbThreadX = np.uint32(self.nBlocksX)\n",
    "        self.nbThreadY = np.uint32(self.nBlocksY)\n",
    "        \n",
    "        #should be in byte\n",
    "        self.sharedMemorySize = 2*(self.blockSizeY*self.nBlocksY *\n",
    "                                  self.blockSizeX*self.nBlocksX )\n",
    "        print(\"self.sharedMemorySize\",self.sharedMemorySize)\n",
    "    \n",
    "    def iterate(self,array,nbIt=1):\n",
    "        Xtmp = np.zeros((self.blockSizeY*self.nBlocksY,self.blockSizeX*self.nBlocksX)).astype(array.dtype)\n",
    "        Xtmp[0:self.shape[0],0:self.shape[1]] = array\n",
    "        Ytmp = np.zeros_like(Xtmp)\n",
    "       \n",
    "        self.cuda_func(\n",
    "                drv.Out(Ytmp), drv.In(Xtmp),self.nbThreadX,self.nbThreadY,np.uint32(nbIt),\n",
    "                block=(self.blockSizeX,self.blockSizeY,1), grid=(self.nBlocksX,self.nBlocksY),\n",
    "                shared=self.sharedMemorySize\n",
    "                )\n",
    "        Y = Ytmp[0:self.shape[0],0:self.shape[1]]\n",
    "\n",
    "        return Y\n",
    "\n",
    "\n",
    "\n",
    "    def run(self,nbIteration=1):\n",
    "        self.array = self.iterate(self.array,nbIt=nbIteration)"
   ]
  },
  {
   "cell_type": "code",
   "execution_count": 90,
   "metadata": {
    "collapsed": false
   },
   "outputs": [
    {
     "name": "stdout",
     "output_type": "stream",
     "text": [
      "self.sharedMemorySize 40960\n"
     ]
    }
   ],
   "source": [
    "gof = GameOfLife((130,120))"
   ]
  },
  {
   "cell_type": "code",
   "execution_count": 91,
   "metadata": {
    "collapsed": false
   },
   "outputs": [],
   "source": [
    "gof.run()"
   ]
  },
  {
   "cell_type": "code",
   "execution_count": 92,
   "metadata": {
    "collapsed": false
   },
   "outputs": [
    {
     "name": "stderr",
     "output_type": "stream",
     "text": [
      "."
     ]
    },
    {
     "name": "stdout",
     "output_type": "stream",
     "text": [
      "self.sharedMemorySize 2048\n"
     ]
    },
    {
     "name": "stderr",
     "output_type": "stream",
     "text": [
      "\n",
      "----------------------------------------------------------------------\n",
      "Ran 1 test in 0.004s\n",
      "\n",
      "OK\n"
     ]
    }
   ],
   "source": [
    "runGOFTest()"
   ]
  },
  {
   "cell_type": "code",
   "execution_count": 95,
   "metadata": {
    "collapsed": false
   },
   "outputs": [
    {
     "name": "stdout",
     "output_type": "stream",
     "text": [
      "self.sharedMemorySize 40960\n",
      "100 loops, best of 3: 11 ms per loop\n"
     ]
    }
   ],
   "source": [
    "gof = GameOfLife((130,120))\n",
    "%timeit uut.run(1000)"
   ]
  },
  {
   "cell_type": "code",
   "execution_count": 94,
   "metadata": {
    "collapsed": false
   },
   "outputs": [
    {
     "name": "stdout",
     "output_type": "stream",
     "text": [
      "self.sharedMemorySize 40960\n",
      "1 loops, best of 3: 261 ms per loop\n"
     ]
    }
   ],
   "source": [
    "gof = GameOfLife((130,120))\n",
    "\n",
    "def test():\n",
    "    for i in range(1000):\n",
    "        uut.run(1)\n",
    "\n",
    "%timeit test()"
   ]
  },
  {
   "cell_type": "code",
   "execution_count": null,
   "metadata": {
    "collapsed": false
   },
   "outputs": [],
   "source": []
  },
  {
   "cell_type": "markdown",
   "metadata": {},
   "source": [
    "The speed is much better. But we are limited by the shared memory size which is MAX_SHARED_MEMORY_PER_BLOCK:49152 for me. Conclusion it is very fast but limited to small array!"
   ]
  },
  {
   "cell_type": "code",
   "execution_count": 30,
   "metadata": {
    "collapsed": false
   },
   "outputs": [
    {
     "name": "stdout",
     "output_type": "stream",
     "text": [
      "Global memory occupancy:36.336357% free\n",
      "\n",
      "===Attributes for device 0\n",
      "MAX_THREADS_PER_BLOCK:1024\n",
      "MAX_BLOCK_DIM_X:1024\n",
      "MAX_BLOCK_DIM_Y:1024\n",
      "MAX_BLOCK_DIM_Z:64\n",
      "MAX_GRID_DIM_X:65535\n",
      "MAX_GRID_DIM_Y:65535\n",
      "MAX_GRID_DIM_Z:65535\n",
      "MAX_SHARED_MEMORY_PER_BLOCK:49152\n",
      "TOTAL_CONSTANT_MEMORY:65536\n",
      "WARP_SIZE:32\n",
      "MAX_PITCH:2147483647\n",
      "MAX_REGISTERS_PER_BLOCK:32768\n",
      "CLOCK_RATE:1280000\n",
      "TEXTURE_ALIGNMENT:512\n",
      "GPU_OVERLAP:1\n",
      "MULTIPROCESSOR_COUNT:2\n",
      "KERNEL_EXEC_TIMEOUT:1\n",
      "INTEGRATED:0\n",
      "CAN_MAP_HOST_MEMORY:1\n",
      "COMPUTE_MODE:DEFAULT\n",
      "MAXIMUM_TEXTURE1D_WIDTH:65536\n",
      "MAXIMUM_TEXTURE2D_WIDTH:65536\n",
      "MAXIMUM_TEXTURE2D_HEIGHT:65535\n",
      "MAXIMUM_TEXTURE3D_WIDTH:2048\n",
      "MAXIMUM_TEXTURE3D_HEIGHT:2048\n",
      "MAXIMUM_TEXTURE3D_DEPTH:2048\n",
      "MAXIMUM_TEXTURE2D_ARRAY_WIDTH:16384\n",
      "MAXIMUM_TEXTURE2D_ARRAY_HEIGHT:16384\n",
      "MAXIMUM_TEXTURE2D_ARRAY_NUMSLICES:2048\n",
      "SURFACE_ALIGNMENT:512\n",
      "CONCURRENT_KERNELS:1\n",
      "ECC_ENABLED:0\n",
      "PCI_BUS_ID:15\n",
      "PCI_DEVICE_ID:0\n",
      "TCC_DRIVER:0\n",
      "MEMORY_CLOCK_RATE:800000\n",
      "GLOBAL_MEMORY_BUS_WIDTH:128\n",
      "L2_CACHE_SIZE:131072\n",
      "MAX_THREADS_PER_MULTIPROCESSOR:1536\n",
      "ASYNC_ENGINE_COUNT:1\n",
      "UNIFIED_ADDRESSING:1\n",
      "MAXIMUM_TEXTURE1D_LAYERED_WIDTH:16384\n",
      "MAXIMUM_TEXTURE1D_LAYERED_LAYERS:2048\n",
      "MAXIMUM_TEXTURE2D_GATHER_WIDTH:16384\n",
      "MAXIMUM_TEXTURE2D_GATHER_HEIGHT:16384\n",
      "MAXIMUM_TEXTURE3D_WIDTH_ALTERNATE:0\n",
      "MAXIMUM_TEXTURE3D_HEIGHT_ALTERNATE:0\n",
      "MAXIMUM_TEXTURE3D_DEPTH_ALTERNATE:0\n",
      "PCI_DOMAIN_ID:0\n",
      "TEXTURE_PITCH_ALIGNMENT:32\n",
      "MAXIMUM_TEXTURECUBEMAP_WIDTH:16384\n",
      "MAXIMUM_TEXTURECUBEMAP_LAYERED_WIDTH:16384\n",
      "MAXIMUM_TEXTURECUBEMAP_LAYERED_LAYERS:2046\n",
      "MAXIMUM_SURFACE1D_WIDTH:65536\n",
      "MAXIMUM_SURFACE2D_WIDTH:65536\n",
      "MAXIMUM_SURFACE2D_HEIGHT:32768\n",
      "MAXIMUM_SURFACE3D_WIDTH:65536\n",
      "MAXIMUM_SURFACE3D_HEIGHT:32768\n",
      "MAXIMUM_SURFACE3D_DEPTH:2048\n",
      "MAXIMUM_SURFACE1D_LAYERED_WIDTH:65536\n",
      "MAXIMUM_SURFACE1D_LAYERED_LAYERS:2048\n",
      "MAXIMUM_SURFACE2D_LAYERED_WIDTH:65536\n",
      "MAXIMUM_SURFACE2D_LAYERED_HEIGHT:32768\n",
      "MAXIMUM_SURFACE2D_LAYERED_LAYERS:2048\n",
      "MAXIMUM_SURFACECUBEMAP_WIDTH:32768\n",
      "MAXIMUM_SURFACECUBEMAP_LAYERED_WIDTH:32768\n",
      "MAXIMUM_SURFACECUBEMAP_LAYERED_LAYERS:2046\n",
      "MAXIMUM_TEXTURE1D_LINEAR_WIDTH:134217728\n",
      "MAXIMUM_TEXTURE2D_LINEAR_WIDTH:65000\n",
      "MAXIMUM_TEXTURE2D_LINEAR_HEIGHT:65000\n",
      "MAXIMUM_TEXTURE2D_LINEAR_PITCH:1048544\n",
      "MAXIMUM_TEXTURE2D_MIPMAPPED_WIDTH:16384\n",
      "MAXIMUM_TEXTURE2D_MIPMAPPED_HEIGHT:16384\n",
      "COMPUTE_CAPABILITY_MAJOR:2\n",
      "COMPUTE_CAPABILITY_MINOR:1\n",
      "MAXIMUM_TEXTURE1D_MIPMAPPED_WIDTH:16384\n",
      "STREAM_PRIORITIES_SUPPORTED:0\n",
      "GLOBAL_L1_CACHE_SUPPORTED:1\n",
      "LOCAL_L1_CACHE_SUPPORTED:1\n",
      "MAX_SHARED_MEMORY_PER_MULTIPROCESSOR:49152\n",
      "MAX_REGISTERS_PER_MULTIPROCESSOR:32768\n",
      "MANAGED_MEMORY:0\n",
      "MULTI_GPU_BOARD:0\n",
      "MULTI_GPU_BOARD_GROUP_ID:0\n"
     ]
    }
   ],
   "source": [
    "(free,total)=drv.mem_get_info()\n",
    "print(\"Global memory occupancy:%f%% free\"%(free*100/total))\n",
    "\n",
    "for devicenum in range(drv.Device.count()):\n",
    "    device=drv.Device(devicenum)\n",
    "    attrs=device.get_attributes()\n",
    "\n",
    "#Beyond this point is just pretty printing\n",
    "print(\"\\n===Attributes for device %d\"%devicenum)\n",
    "for (key,value) in attrs.items():\n",
    "    print(\"%s:%s\"%(str(key),str(value)))"
   ]
  },
  {
   "cell_type": "code",
   "execution_count": null,
   "metadata": {
    "collapsed": true
   },
   "outputs": [],
   "source": []
  }
 ],
 "metadata": {
  "kernelspec": {
   "display_name": "Python 3",
   "language": "python",
   "name": "python3"
  },
  "language_info": {
   "codemirror_mode": {
    "name": "ipython",
    "version": 3
   },
   "file_extension": ".py",
   "mimetype": "text/x-python",
   "name": "python",
   "nbconvert_exporter": "python",
   "pygments_lexer": "ipython3",
   "version": "3.4.3"
  }
 },
 "nbformat": 4,
 "nbformat_minor": 0
}
